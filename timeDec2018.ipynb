{
 "cells": [
  {
   "cell_type": "code",
   "execution_count": 20,
   "metadata": {},
   "outputs": [],
   "source": [
    "from __future__ import division\n",
    "#----------Libraries Commonly Used--------------\n",
    "import numpy as np\n",
    "import scipy as sp\n",
    "from scipy.special import gamma as Gamma\n",
    "from math import *\n",
    "from pylab import *\n",
    "from numpy import linalg as la\n",
    "import matplotlib.pyplot as plt"
   ]
  },
  {
   "cell_type": "code",
   "execution_count": 21,
   "metadata": {},
   "outputs": [
    {
     "name": "stdout",
     "output_type": "stream",
     "text": [
      "Week 49: 12/03-07/2018\n",
      "-------------------------------------------------------\n",
      "  Mon\t  Tue\t  Wed\t  Thr\t Fri\t|\t Total\n",
      "  7.0 \t 10.0 \t 10.0 \t  8.75 \t 8.25 \t|\t 44.0\n",
      "-------------------------------------------------------\n",
      "\n"
     ]
    }
   ],
   "source": [
    "#  Week 49: 12/03/2018\n",
    "mon = 15.50 - 8.5\n",
    "tue = 18.00 - 8.0\n",
    "wed = 18.00 - 8.0\n",
    "thr = 19.50 - 16.75 + 14.25 - 8.25\n",
    "fri = 16.25 -10.00 + 10.00 - 8.00\n",
    "week49 = (mon + tue + wed + thr + fri)\n",
    "print(\"Week 49: 12/03-07/2018\")\n",
    "print(\"-------------------------------------------------------\")\n",
    "print(\"  Mon\\t  Tue\\t  Wed\\t  Thr\\t Fri\\t|\\t Total\")\n",
    "print(\" \", mon,\"\\t\", tue, \"\\t\", wed, \"\\t \", thr, \"\\t\", fri,\"\\t|\\t\", week49)\n",
    "print(\"-------------------------------------------------------\\n\")\n",
    "#-----------------------------------------------------------------------------"
   ]
  },
  {
   "cell_type": "code",
   "execution_count": 1,
   "metadata": {},
   "outputs": [
    {
     "name": "stdout",
     "output_type": "stream",
     "text": [
      "Week 50: 12/10-14/2018\n",
      "-------------------------------------------------------\n",
      "  Mon\t  Tue\t  Wed\t  Thr\t Fri\t|\t Total\n",
      "  8.0 \t 7.5 \t 10.5 \t  9.5 \t 8.0 \t|\t 43.5\n",
      "-------------------------------------------------------\n",
      "\n"
     ]
    }
   ],
   "source": [
    "#  Week 50: 12/10/2018\n",
    "mon = 17.00 - 9.00\n",
    "tue = 16.50 - 9.00\n",
    "wed = 19.00 - 8.50\n",
    "thr = 18.00 - 8.50\n",
    "fri = 16.00 - 8.00\n",
    "print(\"Week 50: 12/10-14/2018\")                                                                       \n",
    "week50 = (mon + tue + wed + thr + fri)\n",
    "print(\"-------------------------------------------------------\")\n",
    "print(\"  Mon\\t  Tue\\t  Wed\\t  Thr\\t Fri\\t|\\t Total\")\n",
    "print(\" \", mon,\"\\t\", tue, \"\\t\", wed, \"\\t \", thr, \"\\t\", fri,\"\\t|\\t\", week50)\n",
    "print(\"-------------------------------------------------------\\n\")\n",
    "#-----------------------------------------------------------------------------"
   ]
  },
  {
   "cell_type": "code",
   "execution_count": 23,
   "metadata": {},
   "outputs": [
    {
     "name": "stdout",
     "output_type": "stream",
     "text": [
      "Week 51: 12/17-21/2018\n",
      "-------------------------------------------------------\n",
      "  Mon\t  Tue\t  Wed\t  Thr\t Fri\t|\t Total\n",
      "  9.0 \t 9.25 \t 9.25 \t  8.5 \t 0.0 \t|\t 36.0\n",
      "-------------------------------------------------------\n",
      "\n"
     ]
    }
   ],
   "source": [
    "#  Week 51: 12/17/2018 \n",
    "mon = 17.50 - 8.50\n",
    "tue = 17.50 - 8.25\n",
    "wed = 17.50 - 8.25\n",
    "thr = 17.00 - 8.50\n",
    "fri = 0.0#16.50 - 8.50\n",
    "print(\"Week 51: 12/17-21/2018\")\n",
    "week51 = (mon + tue + wed + thr + fri)\n",
    "print(\"-------------------------------------------------------\")\n",
    "print(\"  Mon\\t  Tue\\t  Wed\\t  Thr\\t Fri\\t|\\t Total\")\n",
    "print(\" \", mon,\"\\t\", tue, \"\\t\", wed, \"\\t \", thr, \"\\t\", fri,\"\\t|\\t\", week51)\n",
    "print(\"-------------------------------------------------------\\n\")\n",
    "#-----------------------------------------------------------------------------"
   ]
  },
  {
   "cell_type": "code",
   "execution_count": 24,
   "metadata": {},
   "outputs": [
    {
     "name": "stdout",
     "output_type": "stream",
     "text": [
      "Week 52: 12/24-28/2018\n",
      "-------------------------------------------------------\n",
      "  Mon\t  Tue\t  Wed\t  Thr\t Fri\t|\t Total\n",
      "  9.0 \t 9.0 \t 9.0 \t  9.0 \t 0.0 \t|\t 36.0\n",
      "-------------------------------------------------------\n",
      "\n"
     ]
    }
   ],
   "source": [
    "#  Week 52: 12/24/2018\n",
    "mon = 17.0 - 8.0\n",
    "tue = 17.0 - 8.0\n",
    "wed = 17.0 - 8.0\n",
    "thr = 17.0 - 8.0\n",
    "fri = 0.0                                                                                        \n",
    "print(\"Week 52: 12/24-28/2018\")\n",
    "week51 = (mon + tue + wed + thr + fri)\n",
    "print(\"-------------------------------------------------------\")\n",
    "print(\"  Mon\\t  Tue\\t  Wed\\t  Thr\\t Fri\\t|\\t Total\")\n",
    "print(\" \", mon,\"\\t\", tue, \"\\t\", wed, \"\\t \", thr, \"\\t\", fri,\"\\t|\\t\", week51)\n",
    "print(\"-------------------------------------------------------\\n\")"
   ]
  },
  {
   "cell_type": "code",
   "execution_count": null,
   "metadata": {},
   "outputs": [],
   "source": []
  },
  {
   "cell_type": "code",
   "execution_count": null,
   "metadata": {},
   "outputs": [],
   "source": []
  }
 ],
 "metadata": {
  "kernelspec": {
   "display_name": "Python 3",
   "language": "python",
   "name": "python3"
  },
  "language_info": {
   "codemirror_mode": {
    "name": "ipython",
    "version": 3
   },
   "file_extension": ".py",
   "mimetype": "text/x-python",
   "name": "python",
   "nbconvert_exporter": "python",
   "pygments_lexer": "ipython3",
   "version": "3.7.0"
  }
 },
 "nbformat": 4,
 "nbformat_minor": 2
}
