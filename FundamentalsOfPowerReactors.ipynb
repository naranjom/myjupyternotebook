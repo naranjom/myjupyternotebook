{
 "cells": [
  {
   "cell_type": "markdown",
   "metadata": {},
   "source": [
    "<h1><strong> Fundamentals of Power Reactors </strong></h1>"
   ]
  },
  {
   "cell_type": "markdown",
   "metadata": {},
   "source": [
    "<h2> Chapters </h2>\n",
    "***\n",
    "<h3>[1. Introduction](#intro)</h3>\n",
    "<h3>[2. Basics of Nuclear Physics](#bonp)</h3>\n",
    "<h3>[3. Fundamentals  of Reactor Physics](#forp)</h3>\n",
    "<h3>[4. Fisson](#fission)</h3>"
   ]
  },
  {
   "cell_type": "markdown",
   "metadata": {},
   "source": [
    " <a id=\"intro\"></a>\n",
    " <h3> [1. Introduction](#intro) </h3>\n",
    " <blockquote>\n",
    "    <p><strong> Nucleosynthesis takes place in stars and uses the fusion reaction to create heavy weight atomic nuclei </strong></p>\n",
    "    Under conditions of extreme pressure or temperature (100 millions degrees), the fusion reaction brings together protons, neutrons and energy.\n",
    "    <p><strong> Various fusion reactions with their energy balance: </strong></p>\n",
    "    \\begin{equation*}\n",
    "        _1^2\\text{D} \\, + \\, _1^2\\text{D} \\rightarrow \\, _2^3\\text{He}(0.82\\text{MeV}) \\, + \\, _0^1\\text{n}(2.45\\text{MeV}) \\, + \\, 3.27\\text{MeV}\\\\\n",
    "        _1^2\\text{D} \\, + \\, _1^2\\text{D} \\rightarrow \\, _1^3\\text{T}(1.01\\text{MeV}) \\, + \\, _1^1\\text{p}(3.02\\text{MeV}) \\, + \\, 4.03\\text{MeV}\\\\\n",
    "        _1^3\\text{T} \\, + \\, _1^3\\text{T} \\rightarrow \\, _2^4\\text{He}(0.82\\text{MeV}) \\, + \\, 2_0^1\\text{n} \\, + \\, 17.59\\text{MeV}\n",
    "    \\end{equation*}\n",
    "    <p><strong> Energy Balance for the H bomb: </strong> as D & T are isotopes of H</p>\n",
    "    \\begin{equation*}\n",
    "        _1^2\\text{D} \\, + \\, _1^3\\text{T} \\rightarrow \\, _2^4\\text{He}(3.56\\text{MeV}) \\, + \\, _0^1\\text{n}(14.03\\text{MeV}) \\, + \\, 17.59\\text{MeV}\n",
    "    \\end{equation*}\n",
    "    <p><strong> Fission is easier to produce and is the source of energy in a reactor </strong></p>\n",
    "    The fission reaction breaks or splits the nuclear structure when a larger \"unstable\" isotope is bombarded by high-speed particles, i.e. neutrons.  Where:\n",
    "     \\begin{equation*}\n",
    "        \\Delta E =  \\Delta m c^2\n",
    "    \\end{equation*}\n",
    "    <p><strong> <em><u>the mass defect </u></em> - the mass of a heavy nucleaus is higher than the sum of its consituent nucleons mass </strong></p>\n",
    "</blockquote>"
   ]
  },
  {
   "cell_type": "markdown",
   "metadata": {},
   "source": [
    " <a id=\"bonp\"></a>\n",
    " <h3> [2. Basics of Nuclear Physics](#bonp) </h3>\n",
    " <h4> 2.1 Structure of the atom and nucleus </h4>\n",
    " <blockquote>\n",
    "    <p><strong> Nuclear structure </strong></p>\n",
    "     <blockquote>\n",
    "        <p>An atom consists of a small positively charged massive nucleus, surround by a large negatively charged light electron cloud.</p>\n",
    "        <p>The nucleus consists of positively charged protons and neutral (or uncharged) neutrons.</p>\n",
    "        <strong> Relative mass: </strong>\n",
    "        \\begin{equation*}\n",
    "            m_{neutron} > m_{proton} \\approx 1836 * m_{electron}\n",
    "        \\end{equation*}\n",
    "        <p><strong> <em><u>Atomic number (Z): </u></em> the number of protons in the nucleus and determines the chemical element.</strong>  The number of protons is equal to the number of electrons in a neutral atom.</p>\n",
    "        <p><strong> <em><u>Mass number (A): </u></em> the number of nucleons in the nucleus, i.e. A = Z+N.</strong>  Where N = number of neutrons in the nucleus, a specific nuclide.</p>\n",
    "     </blockquote>\n",
    "        <p></p>\n",
    "        <p><strong> Isotopes </strong></p>\n",
    "     <blockquote>\n",
    "        <p><strong> <em><u>Isotopes: </u></em> atoms with the same atomic number, but different mass numbers, are chemically identical.</strong></p>\n",
    "        <strong> Hydrogen has 3 possible isotopes: </strong>\n",
    "        \\begin{equation*}\n",
    "            ^1\\text{H} = \\text{hydrogen has no neutrons in the nucleus}\\\\\n",
    "            ^2\\text{H} = \\text{deuterium, heavy hydrogen, has 1 neutron in the nucleus}\\\\\n",
    "            ^3\\text{H} = \\text{tritium has 2 neutrons in the nucleus}\n",
    "        \\end{equation*}\n",
    "     </blockquote>\n",
    "        <p></p>\n",
    "        <p><strong> Nuclear Stability </strong></p>\n",
    "     <blockquote>\n",
    "        <p>Two forces are competing in the nucleus: 1) Coulombian repulsion which is mainly proportional to the number of protons and 2) Stong nuclear attraction between nucleons. </p>\n",
    "     </blockquote>\n",
    " </blockquote>\n",
    "<h4> 2.1 Structure of the atom and nucleus </h4>\n"
   ]
  },
  {
   "cell_type": "markdown",
   "metadata": {},
   "source": [
    " <a id=\"forp\"></a>\n",
    " <h2> [3. Fundamentals of Reactor Physics](#forp) </h2>\n",
    " <h3> 3.1 Structure of the atom and nucleus </h3>\n",
    " <blockquote>\n",
    "    <p><strong> Nuclear structure </strong></p>\n",
    "    Initiated by enormous energy (temperature 100 millions degrees)\n",
    "    <p><strong> Energy Balance for the H bomb: </strong></p>\n",
    "    \\begin{equation*}\n",
    "        _1^2\\text{D} \\, + \\, _1^3\\text{T} \\rightarrow \\, _2^4\\text{He}(3.56\\text{MeV}) \\, + \\, _0^1\\text{n}(14.03\\text{MeV}) \\, + \\, 17.59\\text{MeV}\n",
    "    \\end{equation*}\n",
    "    <p><strong> Fission is easier to produce and is the source of energy in a reactor </strong></p>\n",
    "    <p><strong> the mass defect - the mass of a heavy nucleaus is higher than the sum of its consituent nucleons mass </strong></p>\n",
    "</blockquote>"
   ]
  },
  {
   "cell_type": "markdown",
   "metadata": {},
   "source": [
    " <a id=\"fission\"></a>\n",
    " <h2> [4. Fission](#fission) </h2>\n",
    " <h3> 4.1 Structure of the atom and nucleus </h3>\n",
    " <blockquote>\n",
    "    <p><strong> Nuclear structure </strong></p>\n",
    "    Initiated by enormous energy (temperature 100 millions degrees)\n",
    "    <p><strong> Energy Balance for the H bomb: </strong></p>\n",
    "    \\begin{equation*}\n",
    "        _1^2\\text{D} \\, + \\, _1^3\\text{T} \\rightarrow \\, _2^4\\text{He}(3.56\\text{MeV}) \\, + \\, _0^1\\text{n}(14.03\\text{MeV}) \\, + \\, 17.59\\text{MeV}\n",
    "    \\end{equation*}\n",
    "    <p><strong> Fission is easier to produce and is the source of energy in a reactor </strong></p>\n",
    "    <p><strong> the mass defect - the mass of a heavy nucleaus is higher than the sum of its consituent nucleons mass </strong></p>\n",
    "</blockquote>"
   ]
  },
  {
   "cell_type": "code",
   "execution_count": 6,
   "metadata": {},
   "outputs": [],
   "source": [
    "from mylibrary import *\n",
    "#matplotlib.use('nbagg')\n",
    "#     The next line is jupyter specific & only needs to be called 1/notebook.\n",
    "%matplotlib inline"
   ]
  },
  {
   "cell_type": "markdown",
   "metadata": {},
   "source": [
    "### $H_2o$ Properties at 100 $^{\\circ}$C\n"
   ]
  },
  {
   "cell_type": "code",
   "execution_count": 2,
   "metadata": {},
   "outputs": [
    {
     "name": "stdout",
     "output_type": "stream",
     "text": [
      "rhocp: 4.041e+06\n"
     ]
    }
   ],
   "source": [
    "density       = 958.38              #kg/m3 (rho)\n",
    "dviscosity    = 0.2818e-3              #Pa*s (mu)\n",
    "conductivity  = 0.6791              #W/m*C (k)\n",
    "specificHeat  = 4.216e3             #J/kg*C\n",
    "kviscosity    = dviscosity/density  #m2/s (nu)\n",
    "print(\"rhocp:\", '{:.3e}'.format(density*specificHeat))"
   ]
  },
  {
   "cell_type": "markdown",
   "metadata": {},
   "source": [
    "### $H_2o$ Properties at 10 $^{\\circ}$C"
   ]
  },
  {
   "cell_type": "code",
   "execution_count": 3,
   "metadata": {},
   "outputs": [
    {
     "name": "stdout",
     "output_type": "stream",
     "text": [
      "rhocp: 4.218e+06\n"
     ]
    }
   ],
   "source": [
    "density       = 999.7026              #kg/m3 (rho)\n",
    "dviscosity    = 1.307e-3              #Pa*s (mu)\n",
    "conductivity  = 0.58              #W/m*C\n",
    "specificHeat  = 4.2192e3             #J/kg*C\n",
    "kviscosity    = dviscosity/density  #m2/s (nu)\n",
    "thermalExpansion = 87.97e-6          #1/T Volumetric(alpha or beta)\n",
    "flux = 3e4                         #W/m2 (q'')\n",
    "print(\"rhocp:\", '{:.3e}'.format(density*specificHeat))"
   ]
  },
  {
   "cell_type": "code",
   "execution_count": 4,
   "metadata": {},
   "outputs": [
    {
     "name": "stdout",
     "output_type": "stream",
     "text": [
      "Reynolds number: 3.824e+02\n",
      "Prandtl number: 9.508e+00\n",
      "Rayleigh number: 2.399e+09\n",
      "Flux Rayleigh number(q''): 1.551e+09\n"
     ]
    }
   ],
   "source": [
    "Rex = density*0.05*0.01/dviscosity;\n",
    "Pr = specificHeat*dviscosity/conductivity;\n",
    "Gr = 9.807*thermalExpansion*2*0.5**3/kviscosity**2;\n",
    "Rax = (9.807*thermalExpansion*4*0.5**3)/(kviscosity*(conductivity/(density*specificHeat)));\n",
    "Ra_flux = (9.807*thermalExpansion*flux*0.05**4)/(kviscosity*(conductivity/(density*specificHeat))*conductivity);\n",
    "print(\"Reynolds number:\", '{:.3e}'.format(Rex))\n",
    "print(\"Prandtl number:\", '{:.3e}'.format(Pr))\n",
    "print(\"Rayleigh number:\", '{:.3e}'.format(Rax))\n",
    "print(\"Flux Rayleigh number(q''):\", '{:.3e}'.format(Ra_flux))"
   ]
  },
  {
   "cell_type": "markdown",
   "metadata": {},
   "source": [
    "### Gridpoints and Meshing"
   ]
  },
  {
   "cell_type": "code",
   "execution_count": 5,
   "metadata": {},
   "outputs": [
    {
     "name": "stdout",
     "output_type": "stream",
     "text": [
      "minimum flux =  0.0 \n",
      "\n",
      "maximum flux =  18000.0 \n",
      "\n",
      "x0 [0.         0.00333333 0.00666667 0.01       0.01333333 0.01666667\n",
      " 0.02      ]\n",
      "x [0.024      0.02855172 0.03310345 0.03765517 0.0422069  0.04675862\n",
      " 0.05131034 0.05586207 0.06041379 0.06496552 0.06951724 0.07406897\n",
      " 0.07862069 0.08317241 0.08772414 0.09227586 0.09682759 0.10137931\n",
      " 0.10593103 0.11048276 0.11503448 0.11958621 0.12413793 0.12868966\n",
      " 0.13324138 0.1377931  0.14234483 0.14689655 0.15144828 0.156     ]\n",
      "x1 [0.16       0.16333333 0.16666667 0.17       0.17333333 0.17666667\n",
      " 0.18      ]\n",
      "z0 [0.    0.001 0.002 0.003 0.004 0.005]\n",
      "z [0.006      0.01011111 0.01422222 0.01833333 0.02244444 0.02655556\n",
      " 0.03066667 0.03477778 0.03888889 0.043     ]\n",
      "z1 [0.045 0.046 0.047 0.048 0.049 0.05 ]\n"
     ]
    },
    {
     "data": {
      "text/plain": [
       "22"
      ]
     },
     "execution_count": 5,
     "metadata": {},
     "output_type": "execute_result"
    }
   ],
   "source": [
    "x_val = y_val = 0.18;\n",
    "x0 = np.linspace(0, 0.02, 7);\n",
    "x1 = np.linspace(0.16, 0.18, 7)\n",
    "x = np.linspace(x0[6]+0.004, x1[0]-0.004, 30);\n",
    "y = np.linspace(0, x_val, 44);\n",
    "z_val = 0.05;\n",
    "z0 = np.linspace(0, 0.005, 6);\n",
    "z1 = np.linspace(0.045, 0.05, 6)\n",
    "z = np.linspace(z0[4]+0.002, z1[0]-0.002, 10);\n",
    "flux = -1.0e5*y + 1.8e4\n",
    "print(\"minimum flux = \", min(flux),\"\\n\")\n",
    "print(\"maximum flux = \", max(flux),\"\\n\")\n",
    "print(\"x0\",x0)\n",
    "print(\"x\",x)\n",
    "print(\"x1\",x1)\n",
    "xtot = np.concatenate((x0,x,x1), axis=None);xtot\n",
    "print(\"z0\",z0)\n",
    "print(\"z\",z)\n",
    "print(\"z1\",z1)\n",
    "ztot = np.concatenate((z0,z,z1), axis=None);ztot\n",
    "size(ztot)"
   ]
  },
  {
   "cell_type": "markdown",
   "metadata": {},
   "source": [
    "### Plotting and Scheming"
   ]
  },
  {
   "cell_type": "code",
   "execution_count": 6,
   "metadata": {},
   "outputs": [
    {
     "data": {
      "image/png": "[encoded data removed]",
      "text/plain": [
       "<matplotlib.figure.Figure at 0x1990199df28>"
      ]
     },
     "metadata": {},
     "output_type": "display_data"
    }
   ],
   "source": [
    "plt.close('all')\n",
    "#    Enter x, y variables to plot:\n",
    "x_var, y_var = flux, y\n",
    "m = x_var.size\n",
    "\n",
    "# this is twice as tall as it is wide: fig = plt.figure(figsize=plt.figaspect(2)) \n",
    "#fig = plt.figure(figsize = (7, 5)) \n",
    "#fig = plt.figure() \n",
    "#ax = fig.add_subplot(111)    # 1 row, 1 column\n",
    "fig, ax = plt.subplots()\n",
    "ax.set_xlim(min(x), max(x_var))\n",
    "ax.set_ylim(min(y_var), max(y_var))\n",
    "fig.tight_layout()\n",
    "#plt.plot draws points w/ lines connecting them\n",
    "#plt.scatter draws unconnected points\n",
    "#for i in range(0,m):\n",
    "#    plt.plot(x_var[i],y_var[i])\n",
    "#    plt.cla()\n",
    "plt.plot(x_var,y_var)\n",
    "\n",
    "##############       Change Title          #############################\n",
    "ax.set_title(r'Plot of $flux = -2.0e4y + 1.0e4$')\n",
    "ax.set_xlabel('flux(y)', size = 12);\n",
    "ax.set_ylabel(r'$y$', size = 12)\n",
    "\n",
    "# Shrink current axis by 20%\n",
    "box = ax.get_position()\n",
    "ax.set_position([box.x0, box.y0, box.width * 0.85, box.height])\n",
    "\n",
    "#plt.legend(fancybox = True, loc=1, title = 'Time({0})'.format(time.units), bbox_to_anchor=(1.3, 1.0))\n",
    "plt.show()\n",
    "\n",
    "#fig.savefig('{0}-{1}-component.pdf'.format(dataset.title[26:37], x_var.long_name), bbox_inches='tight', transparent=True)"
   ]
  },
  {
   "cell_type": "code",
   "execution_count": null,
   "metadata": {},
   "outputs": [],
   "source": []
  },
  {
   "cell_type": "code",
   "execution_count": null,
   "metadata": {},
   "outputs": [],
   "source": []
  },
  {
   "cell_type": "markdown",
   "metadata": {},
   "source": []
  },
  {
   "cell_type": "code",
   "execution_count": null,
   "metadata": {},
   "outputs": [],
   "source": []
  }
 ],
 "metadata": {
  "celltoolbar": "Raw Cell Format",
  "kernelspec": {
   "display_name": "Python 3",
   "language": "python",
   "name": "python3"
  },
  "language_info": {
   "codemirror_mode": {
    "name": "ipython",
    "version": 3
   },
   "file_extension": ".py",
   "mimetype": "text/x-python",
   "name": "python",
   "nbconvert_exporter": "python",
   "pygments_lexer": "ipython3",
   "version": "3.6.4"
  }
 },
 "nbformat": 4,
 "nbformat_minor": 1
}
