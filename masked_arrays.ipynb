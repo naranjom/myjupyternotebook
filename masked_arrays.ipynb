{
 "cells": [
  {
   "cell_type": "markdown",
   "metadata": {},
   "source": [
    "# Missing data: masked arrays"
   ]
  },
  {
   "cell_type": "markdown",
   "metadata": {},
   "source": [
    "When working with real oceanographic data sets, there are often gaps.  One way of handling them is to fill them with NaN, and then write functions that treat NaNs however we desire.  For example, we might want calculate the mean of all values that are not NaN.  In some such cases, there is already a numpy function to do this type of calculation: numpy now includes `nanmean`, `nanmax`, `nanmin`, `nanargmax`, `nanargmin`, `nanstd`, `nanvar`, and `nansum`.  The use of NaN as a bad value flag is typical in Matlab code.  \n",
    "\n",
    "Numpy, however, provides an alternative way to handle missing data: the `numpy.ma` module, with its `MaskedArray` subclass of the fundamental `numpy.ndarray` class.  There are a few rough edges in `numpy.ma`, but it has some substantial advantages over relying on NaN, so I use it extensively.  It is well supported in matplotlib, and in the two Python modules that I recommend for working with netCDF data.\n",
    "\n",
    "The most obvious advantage of using masked arrays is that they work with any type of data, not just floating point.  A second advantage is that by always carrying along a Boolean mask array, they often simplify calculations.\n",
    "\n",
    "Regardless of the degree to which you end up using masked arrays in your own code, you will encounter them, so you need to know at least a few things about them."
   ]
  },
  {
   "cell_type": "markdown",
   "metadata": {},
   "source": [
    "## The bare minimum: conversion to ndarray"
   ]
  },
  {
   "cell_type": "markdown",
   "metadata": {},
   "source": [
    "Suppose you are using a library that reads a file (e.g., netCDF) and returns the results as a masked array if any missing values were encountered.  So, you don't know at the outset whether your function will be getting a masked array or an ndarray, you don't know whether it will be integer or floating point, and you want to do your work with NaN-filled ndarrays.  Here is what you can do:"
   ]
  },
  {
   "cell_type": "code",
   "execution_count": 2,
   "metadata": {},
   "outputs": [
    {
     "name": "stdout",
     "output_type": "stream",
     "text": [
      "The input integer masked array is:\n",
      "[1 -- 2 3]\n",
      "Converted to double precision, with nan:\n",
      "[  1.  nan   2.   3.]\n"
     ]
    }
   ],
   "source": [
    "import numpy as np\n",
    "\n",
    "# make an example of an integer masked array:\n",
    "x = np.ma.array([1, 100, 2, 3], mask=[False, True, False, False],\n",
    "                dtype=int)\n",
    "print(\"The input integer masked array is:\")\n",
    "print(x)\n",
    "\n",
    "xnan = np.ma.filled(x.astype(float), np.nan)\n",
    "print(\"Converted to double precision, with nan:\")\n",
    "print(xnan)\n"
   ]
  },
  {
   "cell_type": "markdown",
   "metadata": {},
   "source": [
    "We first used the `astype(float)` method call to generate a double precision array.  This method is available to ndarrays and to masked arrays, so it would work even if x were an ndarray.  Next, this floating point array is used as the first argument to the `np.ma.filled` function, which returns an ndarray of the same dtype, but with its second argument used to replace the masked values.  If its first argument is already an ndarray, `np.ma.filled` returns that argument unchanged.\n",
    "\n",
    "There are other ways of accomplishing this nan-filled conversion, sometimes more efficiently (that is, without copying the data unnecessarily), but the method above is adequate for now."
   ]
  },
  {
   "cell_type": "markdown",
   "metadata": {},
   "source": [
    "## Taking advantage of masked arrays"
   ]
  },
  {
   "cell_type": "markdown",
   "metadata": {},
   "source": [
    "Now let's see how we can take advantage of masked arrays instead of immediately converting them into ndarrays.\n",
    "\n",
    "If we have input that might be a masked array or an ndarray, possibly with NaN and/or inf values, we can start by converting, if necessary, to a masked array:"
   ]
  },
  {
   "cell_type": "code",
   "execution_count": 3,
   "metadata": {},
   "outputs": [
    {
     "name": "stdout",
     "output_type": "stream",
     "text": [
      "input array with bad values:\n",
      "[ 1.   2.5  nan  1.3  inf  7.2]\n",
      "masked version:\n",
      "[1.0 2.5 -- 1.3 -- 7.2]\n"
     ]
    }
   ],
   "source": [
    "# sample input ndarray:\n",
    "x = np.array([1.0, 2.5, np.nan, 1.3, np.inf, 7.2])\n",
    "print(\"input array with bad values:\")\n",
    "print(x)\n",
    "\n",
    "xm = np.ma.masked_invalid(x)\n",
    "print(\"masked version:\")\n",
    "print(xm)"
   ]
  },
  {
   "cell_type": "markdown",
   "metadata": {},
   "source": [
    "The masked array has nearly all of the methods that an ndarray has, and a few special ones of its own.  For example, to find out how many unmasked values it contains, there is the `count` method:"
   ]
  },
  {
   "cell_type": "code",
   "execution_count": 4,
   "metadata": {},
   "outputs": [
    {
     "name": "stdout",
     "output_type": "stream",
     "text": [
      "xm has 4 unmasked values\n"
     ]
    }
   ],
   "source": [
    "print(\"xm has\", xm.count(), \"unmasked values\")"
   ]
  },
  {
   "cell_type": "markdown",
   "metadata": {},
   "source": [
    "To extract an ndarray containing only the unmasked values, use the `compressed` method:"
   ]
  },
  {
   "cell_type": "code",
   "execution_count": 5,
   "metadata": {},
   "outputs": [
    {
     "name": "stdout",
     "output_type": "stream",
     "text": [
      "unmasked values are [ 1.   2.5  1.3  7.2]\n"
     ]
    }
   ],
   "source": [
    "print(\"unmasked values are\", xm.compressed())"
   ]
  },
  {
   "cell_type": "markdown",
   "metadata": {},
   "source": [
    "For both ndarrays and masked arrays, there are often functions that correspond to methods, and vice versa. An advantage of using methods is that they inherently \"do the right thing\"--the method of a masked array includes functionality to deal with the mask.  With both methods and functions, it is not always obvious when the returned object will be an ndarray and when it will be a masked array, so when it matters it is wise to check, either with a test or by reading the documentation."
   ]
  },
  {
   "cell_type": "markdown",
   "metadata": {},
   "source": [
    "Sometimes it is useful to extract the mask, perhaps to use for masking another variable.  Use the `np.ma.getmaskarray` function to get a full-size boolean mask corresponding to a given array, masked or not:"
   ]
  },
  {
   "cell_type": "code",
   "execution_count": 14,
   "metadata": {},
   "outputs": [
    {
     "name": "stdout",
     "output_type": "stream",
     "text": [
      "sample ndarray, x:\n",
      "[[ 0  1  2  3]\n",
      " [ 4  5  6  7]\n",
      " [ 8  9 10 11]]\n",
      "\n",
      "np.ma.getmaskarray(x):\n",
      "[[False False False False]\n",
      " [False False False False]\n",
      " [False False False False]]\n"
     ]
    }
   ],
   "source": [
    "x = np.arange(12).reshape(3, 4)\n",
    "print(\"sample ndarray, x:\")\n",
    "print(x)\n",
    "print(\"\\nnp.ma.getmaskarray(x):\")\n",
    "print(np.ma.getmaskarray(x))"
   ]
  },
  {
   "cell_type": "markdown",
   "metadata": {},
   "source": [
    "When a masked array is created with no masked values, it's `mask` attribute does not contain a full Boolean array; this is to save space and time, in case it turns out that nothing ever needs to be masked:"
   ]
  },
  {
   "cell_type": "code",
   "execution_count": 15,
   "metadata": {},
   "outputs": [
    {
     "name": "stdout",
     "output_type": "stream",
     "text": [
      "fresh masked array, xm:\n",
      "[[0 1 2]\n",
      " [3 4 5]]\n",
      "\n",
      "xm.mask is actually np.ma.nomask, but prints as:\n",
      "False\n"
     ]
    }
   ],
   "source": [
    "xm = np.ma.arange(6).reshape(2, 3)\n",
    "print(\"fresh masked array, xm:\")\n",
    "print(xm)\n",
    "print(\"\\nxm.mask is actually np.ma.nomask, but prints as:\")\n",
    "print(xm.mask)"
   ]
  },
  {
   "cell_type": "markdown",
   "metadata": {},
   "source": [
    "## Masking values in a masked array"
   ]
  },
  {
   "cell_type": "markdown",
   "metadata": {},
   "source": [
    "We have already seen one way of ending up with masked values: using `np.ma.masked_invalid`.  There are many more, e.g.:"
   ]
  },
  {
   "cell_type": "code",
   "execution_count": 17,
   "metadata": {},
   "outputs": [
    {
     "name": "stdout",
     "output_type": "stream",
     "text": [
      "[0 1 2 3 4 5 -- -- -- --]\n"
     ]
    }
   ],
   "source": [
    "x = np.arange(10)\n",
    "xm = np.ma.masked_greater(x, 5)\n",
    "print(xm)"
   ]
  },
  {
   "cell_type": "code",
   "execution_count": 16,
   "metadata": {},
   "outputs": [
    {
     "data": {
      "text/plain": [
       "array([0, 1, 2, 3, 4, 5, 6, 7, 8, 9])"
      ]
     },
     "execution_count": 16,
     "metadata": {},
     "output_type": "execute_result"
    }
   ],
   "source": [
    "x = np.arange(10);x"
   ]
  },
  {
   "cell_type": "markdown",
   "metadata": {},
   "source": [
    "We can include a mask at array creation time:"
   ]
  },
  {
   "cell_type": "code",
   "execution_count": 9,
   "metadata": {},
   "outputs": [
    {
     "name": "stdout",
     "output_type": "stream",
     "text": [
      "[-- 2 3]\n"
     ]
    }
   ],
   "source": [
    "xm = np.ma.array([1, 2, 3], mask=[True, False, False])\n",
    "print(xm)"
   ]
  },
  {
   "cell_type": "markdown",
   "metadata": {},
   "source": [
    "Mask a set of values in an existing masked array using indexing:"
   ]
  },
  {
   "cell_type": "code",
   "execution_count": 10,
   "metadata": {},
   "outputs": [
    {
     "name": "stdout",
     "output_type": "stream",
     "text": [
      "[0 -- 2 -- 4]\n"
     ]
    }
   ],
   "source": [
    "xm = np.ma.arange(5)\n",
    "xm[[1, 3]] = np.ma.masked\n",
    "print(xm)"
   ]
  },
  {
   "cell_type": "markdown",
   "metadata": {},
   "source": [
    "## Math"
   ]
  },
  {
   "cell_type": "markdown",
   "metadata": {},
   "source": [
    "For operations like addition and multiplication, a masked value acts like a NaN: the output is masked. Division is more interesting: division by zero yields a masked value, not an error:"
   ]
  },
  {
   "cell_type": "code",
   "execution_count": 11,
   "metadata": {},
   "outputs": [
    {
     "name": "stdout",
     "output_type": "stream",
     "text": [
      "[1 0 --]\n",
      "[1.0 -- --]\n"
     ]
    }
   ],
   "source": [
    "x = np.ma.array([1, 2, 3], mask=[False, False, True])\n",
    "y = np.ma.array([1, 0, 1])\n",
    "print(x * y)\n",
    "print(x/y)"
   ]
  },
  {
   "cell_type": "markdown",
   "metadata": {},
   "source": [
    "Similarly, evaluating a function with arguments outside the domain of that function simply yields masked values:"
   ]
  },
  {
   "cell_type": "code",
   "execution_count": 12,
   "metadata": {},
   "outputs": [
    {
     "name": "stdout",
     "output_type": "stream",
     "text": [
      "[0.9272952180016123 1.5707963267948966 --]\n"
     ]
    }
   ],
   "source": [
    "print(np.ma.arcsin([0.8, 1, 1.5]))"
   ]
  },
  {
   "cell_type": "code",
   "execution_count": null,
   "metadata": {},
   "outputs": [],
   "source": []
  },
  {
   "cell_type": "code",
   "execution_count": null,
   "metadata": {},
   "outputs": [],
   "source": []
  },
  {
   "cell_type": "code",
   "execution_count": null,
   "metadata": {},
   "outputs": [],
   "source": []
  },
  {
   "cell_type": "code",
   "execution_count": null,
   "metadata": {},
   "outputs": [],
   "source": []
  },
  {
   "cell_type": "code",
   "execution_count": null,
   "metadata": {},
   "outputs": [],
   "source": []
  },
  {
   "cell_type": "code",
   "execution_count": null,
   "metadata": {},
   "outputs": [],
   "source": []
  }
 ],
 "metadata": {
  "kernelspec": {
   "display_name": "Python 3",
   "language": "python",
   "name": "python3"
  },
  "language_info": {
   "codemirror_mode": {
    "name": "ipython",
    "version": 3
   },
   "file_extension": ".py",
   "mimetype": "text/x-python",
   "name": "python",
   "nbconvert_exporter": "python",
   "pygments_lexer": "ipython3",
   "version": "3.6.4"
  }
 },
 "nbformat": 4,
 "nbformat_minor": 1
}
