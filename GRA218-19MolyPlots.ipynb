{
 "cells": [
  {
   "cell_type": "markdown",
   "metadata": {},
   "source": [
    "<h3 align=center> Summary Review of:</h4>\n",
    "<h4 align = center> Prediction of Critical Heat Flux in Flow Boiling at Low Qualties (J.Weisman and B.S. Pei)</h5>\n",
    "***\n",
    "<br> </br>\n",
    "<p>   Several key terms and concepts that were either refreshed or learned while reading this article are:</p>\n",
    "<blockquote>\n",
    "    <p><strong>Boiling Crisis(also called burnout)</strong> = a hydrodynamic phenomena at the transition from nucleate boiling to film boiling.</p>\n",
    "    <p><strong>Critical Heat Flux (CHF)$ = q^{\"}_{crit}\\big(\\frac{BTU}{h* ft^2} \\text{or} \\frac{W}{m^{-2}}\\big) $</strong> = is the value at which the steam produced can form an insulating vapor film or layer over the surface, deteriorating the heat transfer coefficient.</p>\n",
    "    <p><strong>Departure from Nucleate Boiling(DNB)</strong></p>\n",
    "    <p><strong>Subcooled Fluid</strong> = a fluid at a temperature below its boiling point.</p>\n",
    "    <p><strong>Nucleate Boiling</strong>:  $5°C < \\Delta{T_{sat}} <30°C$</p>\n",
    "    \\begin{equation*}\n",
    "        \\\\\n",
    "        \\text{CHF} \\equiv \\text{Boiling Crisis} \\equiv \\text{DNB}\\\\\n",
    "        \\text{excess temperature} \\equiv \\Delta{T_{sat}} = T_{wall} - T_{sat}\\\\\n",
    "        \\text{flow quality} \\equiv \\frac{\\dot{m}_g}{\\dot{m_{tot}}} = \\frac{\\dot{m}_g}{\\dot{m}_g + \\dot{m}_l}\n",
    "    \\end{equation*}\n",
    "</blockquote>\n",
    "___\n",
    "<h3>  Additional Notes: </h3>\n",
    "<h4> Reynolds number </h4>\n",
    "    \\begin{equation*}\n",
    "       \\\\\\\\\n",
    "       Re_{D,pipe} = \\frac{\\text{inertial forces}}{\\text{viscous forces}}\n",
    "       = \\frac{\\rho u D}{\\mu}\n",
    "       = \\frac{u D}{\\nu}\n",
    "       = \\frac{Q D}{\\nu A}\\\\\n",
    "       Re_x = \\frac{\\rho u D_H}{\\mu}\n",
    "       = \\frac{u D_H}{\\nu}\n",
    "       = \\frac{Q D_H}{\\nu A}\n",
    "    \\end{equation*}\n",
    "<h5 align = center> where, </h5>\n",
    "    \\begin{equation*}\n",
    "       D_H = \\frac{4A}{P} \\,\\&\\, P = \\text{wetted perimeter}\\\\\n",
    "    \\end{equation*}\n",
    "<h4> Prandtl number</h4>\n",
    "    \\begin{equation*}\n",
    "       Pr = \\frac{\\text{momentum diffusivity}}{\\text{thermal diffusivity}}\n",
    "       = \\frac{\\nu}{\\alpha}\n",
    "       = \\frac{c_p \\mu}{k}\n",
    "    \\end{equation*}\n",
    "<h5 align = center> where, </h5>\n",
    "    \\begin{equation*}\n",
    "       \\nu = \\text{momentum diffusivity (kinimatic viscosity)} = \\frac{\\mu}{\\rho} \\,\\&\\\\\n",
    "       \\alpha =\\text{thermal diffusivity} = \\frac{k}{\\rho c_p}\\\\\n",
    "       k = \\text{conductivity}\n",
    "    \\end{equation*}\n",
    "\n",
    "<h4> Grashof number</h4>\n",
    "    \\begin{equation*}\n",
    "       Gr_x = \\frac{\\text{bouyance forces}}{\\text{viscous forces}}\n",
    "       = \\frac{g\\beta}{\\nu^2}(T_s - T_{\\infty})x^3\\\\\n",
    "    \\end{equation*}\n",
    "<h5 align = center> where, </h5>\n",
    "    \\begin{equation*}\n",
    "       \\beta = \\text{coefficient of volumetric thermal expansion} \\,\\&\\\\\n",
    "       g = gravity\n",
    "    \\end{equation*}\n",
    "\n",
    "<h4> Rayleigh number</h4>\n",
    "    \\begin{equation*}\n",
    "       \\text{Free Convection}\\\\\n",
    "       Ra_x = \\frac{g\\beta}{\\nu\\alpha}(T_s - T_{\\infty})x^3 = Gr_x Pr\n",
    "    \\end{equation*}\n",
    "<p> </p>\n",
    "    \\begin{equation*}\n",
    "       \\text{Wall Heating Flux}\\\\\n",
    "       Ra = \\frac{g\\beta q_0^{''}}{\\nu\\alpha\\kappa}x^4\n",
    "    \\end{equation*}\n",
    "    \n",
    "<h4> Boussinesq Approximation</h4>\n",
    "    \\begin{equation*}\n",
    "       \\rho = \\rho_0\\big(1-\\beta(T - T_0)\\big)\n",
    "    \\end{equation*}\n",
    "     "
   ]
  },
  {
   "cell_type": "code",
   "execution_count": 1,
   "metadata": {},
   "outputs": [],
   "source": [
    "from mylibrary import *\n",
    "import os\n",
    "#matplotlib.use('nbagg')\n",
    "#     The next line is jupyter specific & only needs to be called 1/notebook.\n",
    "%matplotlib inline"
   ]
  },
  {
   "cell_type": "markdown",
   "metadata": {},
   "source": [
    "<h2>Moly99 Solution Variable Properties</h2>"
   ]
  },
  {
   "cell_type": "code",
   "execution_count": 2,
   "metadata": {},
   "outputs": [
    {
     "name": "stdout",
     "output_type": "stream",
     "text": [
      "The heat generation rate of 0.2m rectangular prism is : 5.000e+04\n",
      "\n",
      "---------------------Fluid Properties @ 25 °C---------------------\n",
      "\n",
      "Density (rho):\t\t\t 1.18443892e+03\n",
      "Rhocp:\t\t\t\t 3.56437296e+06\n",
      "Conductivity (kappa or k):\t 5.74462677e-01\n",
      "Dynamic Viscosity (mu):\t\t 1.44169113e-03\n",
      "Specific Heat (cp):\t\t 3.00933455e+03\n"
     ]
    }
   ],
   "source": [
    "l = 1.0\n",
    "h = d = 0.2\n",
    "ID = 0.08\n",
    "molyVol = 5.0e4\n",
    "volHeatGen = molyVol                         #W/m2 (q'')\n",
    "#print(\"The volume of the 0.2m test cube is :\", '{:.3e}'.format(molyVol))\n",
    "print(\"The heat generation rate of 0.2m rectangular prism is :\", '{:.3e}'.format(volHeatGen))\n",
    "temp          = 25                                           # C\n",
    "temp          = temp + 273.15                                # K\n",
    "density       = 987.864 + 1.68197*temp - 0.00343*temp**2     #kg/m3 (rho)\n",
    "dviscosity    = 0.030165 - 0.000167*temp + (2.37e-7)*temp**2        #Pa*s (mu)\n",
    "conductivity  = 0.103116 + 0.002049*temp - 1.57e-6*temp**2   #W/m*C\n",
    "specificHeat  = 3439.243 - 2.396*temp + 0.0032*temp**2       #J/kg*C\n",
    "kviscosity    = dviscosity/density  #m2/s (nu)\n",
    "#thermalExpansion = 87.97e-6        #1/T Volumetric(alpha or beta)\n",
    "print(\"\\n---------------------Fluid Properties @ 25 °C---------------------\\n\")\n",
    "print(\"Density (rho):\\t\\t\\t\", '{:.8e}'.format(density))\n",
    "print(\"Rhocp:\\t\\t\\t\\t\", '{:.8e}'.format(density*specificHeat))\n",
    "print(\"Conductivity (kappa or k):\\t\", '{:.8e}'.format(conductivity))\n",
    "print(\"Dynamic Viscosity (mu):\\t\\t\", '{:.8e}'.format(dviscosity))\n",
    "print(\"Specific Heat (cp):\\t\\t\", '{:.8e}'.format(specificHeat))"
   ]
  },
  {
   "cell_type": "code",
   "execution_count": 3,
   "metadata": {
    "scrolled": true
   },
   "outputs": [
    {
     "name": "stdout",
     "output_type": "stream",
     "text": [
      "Reynolds number: 4.108e+02\n",
      "Prandtl number: 7.552e+00\n"
     ]
    }
   ],
   "source": [
    "Rex = density*0.05*0.01/dviscosity;\n",
    "Pr = specificHeat*dviscosity/conductivity;\n",
    "#Gr = 9.807*thermalExpansion*2*L**3/kviscosity**2;\n",
    "#Rax = (9.807*thermalExpansion*2*L**3)/(kviscosity*(conductivity/(density*specificHeat)));\n",
    "#Ra_flux = (9.807*thermalExpansion*flux*0.05**4)/(kviscosity*(conductivity/(density*specificHeat))*conductivity);\n",
    "print(\"Reynolds number:\", '{:.3e}'.format(Rex))\n",
    "print(\"Prandtl number:\", '{:.3e}'.format(Pr))\n",
    "#print(\"Rayleigh number:\", '{:.3e}'.format(Rax))\n",
    "#print(\"Flux Rayleigh number(q''):\", '{:.3e}'.format(Ra_flux))"
   ]
  },
  {
   "cell_type": "markdown",
   "metadata": {},
   "source": [
    "<h2>Computing Speed - Moly99</h2>"
   ]
  },
  {
   "cell_type": "code",
   "execution_count": 4,
   "metadata": {},
   "outputs": [
    {
     "name": "stdout",
     "output_type": "stream",
     "text": [
      "Simulation time : Computational time = 1.296e-04\n"
     ]
    }
   ],
   "source": [
    "numProcs = 360 ##(30 nodes @ 12 cores/node)\n",
    "iterations = 4596\n",
    "𝐶𝐹𝐿_max = 2.0\n",
    "d𝑡_max = 1e-2  # seconds\n",
    "compt = 3.75*24*3600 #days-->secs\n",
    "simt = 42 #seconds \n",
    "tNonDim = simt/compt\n",
    "print(\"Simulation time : Computational time =\", '{:.3e}'.format(tNonDim))"
   ]
  },
  {
   "cell_type": "markdown",
   "metadata": {},
   "source": [
    "<h2>Gridpoints and Meshing - Moly99</h2>"
   ]
  },
  {
   "cell_type": "code",
   "execution_count": 5,
   "metadata": {},
   "outputs": [
    {
     "name": "stdout",
     "output_type": "stream",
     "text": [
      "rtot [0.04       0.04107143 0.04214286 0.04321429 0.04428571 0.04535714\n",
      " 0.04642857 0.0475     0.04857143 0.04964286 0.05071429 0.05178571\n",
      " 0.05285714 0.05392857 0.055      0.0576     0.06008    0.06256\n",
      " 0.06504    0.06752    0.07       0.07248    0.07496    0.07744\n",
      " 0.07992    0.0824     0.085      0.08607143 0.08714286 0.08821429\n",
      " 0.08928571 0.09035714 0.09142857 0.0925     0.09357143 0.09464286\n",
      " 0.09571429 0.09678571 0.09785714 0.09892857 0.1       ]\n",
      "thetatot [0.    0.025 0.05  0.075 0.1   0.125 0.15  0.175 0.2   0.225 0.25  0.275\n",
      " 0.3   0.325 0.35  0.375 0.4   0.425 0.45  0.475 0.5   0.525 0.55  0.575\n",
      " 0.6   0.625 0.65  0.675 0.7   0.725 0.75  0.775 0.8   0.825 0.85  0.875\n",
      " 0.9   0.925 0.95  0.975 1.   ]\n",
      "ztot [0.         0.01666667 0.03333333 0.05       0.06666667 0.08333333\n",
      " 0.1        0.11666667 0.13333333 0.15       0.16666667 0.18333333\n",
      " 0.2        0.21666667 0.23333333 0.25       0.26666667 0.28333333\n",
      " 0.3        0.31666667 0.33333333 0.35       0.36666667 0.38333333\n",
      " 0.4        0.41666667 0.43333333 0.45       0.46666667 0.48333333\n",
      " 0.5        0.51666667 0.53333333 0.55       0.56666667 0.58333333\n",
      " 0.6        0.61666667 0.63333333 0.65       0.66666667 0.68333333\n",
      " 0.7        0.71666667 0.73333333 0.75       0.76666667 0.78333333\n",
      " 0.8        0.81666667 0.83333333 0.85       0.86666667 0.88333333\n",
      " 0.9        0.91666667 0.93333333 0.95       0.96666667 0.98333333\n",
      " 1.        ]\n"
     ]
    }
   ],
   "source": [
    "r_inner, r_outer = 0.04, 0.10;\n",
    "r0 = np.linspace(r_inner, 0.055, 15);\n",
    "r = np.linspace(r0[14]+0.0026, 0.085-0.0026, 11);\n",
    "r1 = np.linspace(0.085, r_outer, 15);\n",
    "rtot = np.concatenate((r0,r,r1), axis=None);\n",
    "\n",
    "theta_min, theta_max = deg2rad(0)/(2*pi), deg2rad(360)/(2*pi);\n",
    "theta = np.linspace(theta_min, theta_max, 41);\n",
    "thetatot = theta;\n",
    "\n",
    "z_min, z_max = 0, 1;\n",
    "z = np.linspace(z_min, z_max, 61);\n",
    "ztot = z;\n",
    "\n",
    "#print(\"r0\",r0); print(\"r\",r); print(\"r1\",r1)\n",
    "print(\"rtot\",rtot); #print(\"size of rtot\", size(rtot))\n",
    "\n",
    "#print(\"theta_min\",theta_min); print(\"theta_max\",theta_max); print(\"theta\",theta)\n",
    "print(\"thetatot\",thetatot)\n",
    "\n",
    "#print(\"z_min\",z_min); print(\"z_max\",z_max);\n",
    "print(\"ztot\", ztot)"
   ]
  },
  {
   "cell_type": "code",
   "execution_count": 8,
   "metadata": {},
   "outputs": [
    {
     "name": "stdout",
     "output_type": "stream",
     "text": [
      "/Users/u225129/notebooks\n"
     ]
    }
   ],
   "source": [
    "%cd /Users/u225129/notebooks\n",
    "notebooksDir   = os.getcwd()\n",
    "cases1thru3Dir = os.path.join(notebooksDir,r'imagesCases1thru3')\n",
    "casesMoly      = os.path.join(notebooksDir,r'imagesCasesMoly')\n",
    "molyn6Dir      = r'/Users/u225129/Desktop/Nek5000/molyn6'\n",
    "molyn8Dir      = r'/Users/u225129/Desktop/Nek5000/molyn8'\n",
    "molyn10Dir     = r'/Users/u225129/Desktop/Nek5000/molyn10'\n"
   ]
  },
  {
   "cell_type": "markdown",
   "metadata": {},
   "source": [
    "<h3>Get Run Log Statistics</h3>"
   ]
  },
  {
   "cell_type": "code",
   "execution_count": 10,
   "metadata": {},
   "outputs": [],
   "source": [
    "os.chdir(molyn6Dir)\n",
    "timeN6, tempAvgN6,tempRMSN6 = np.genfromtxt(fname='runStatistics6.log', skip_header=1, usecols = (1, 3, 4), unpack=True)\n",
    "os.chdir(molyn8Dir)\n",
    "timeN8, tempAvgN8,tempRMSN8 = np.genfromtxt(fname='runStatistics8.log', skip_header=1, usecols = (1, 3, 4), unpack=True)\n",
    "os.chdir(molyn10Dir)\n",
    "timeN10, tempAvgN10,tempRMSN10 = np.genfromtxt(fname='runStatistics10.log', skip_header=1, usecols = (1, 3, 4), unpack=True)\n",
    "#os.chdir(notebooksDir)"
   ]
  },
  {
   "cell_type": "markdown",
   "metadata": {},
   "source": [
    "<h3> Moly Plot</h3>"
   ]
  },
  {
   "cell_type": "code",
   "execution_count": 11,
   "metadata": {
    "scrolled": false
   },
   "outputs": [
    {
     "data": {
      "image/png": "[encoded data removed]",
      "text/plain": [
       "<Figure size 432x288 with 1 Axes>"
      ]
     },
     "metadata": {
      "needs_background": "light"
     },
     "output_type": "display_data"
    }
   ],
   "source": [
    "#    Update run stats --> Delete once runs are complete --> uncomment above cell\n",
    "os.chdir(molyn6Dir)\n",
    "timeN6, tempAvgN6,tempRMSN6 = np.genfromtxt(fname='runStatistics6.log', skip_header=1, usecols = (1, 3, 4), unpack=True)\n",
    "timeN6T2, tempAvgN6T2,tempRMSN6T2 = np.genfromtxt(fname='runStatistics6Take2.log', skip_header=1, usecols = (1, 3, 4), unpack=True)\n",
    "os.chdir(molyn8Dir)\n",
    "timeN8, tempAvgN8,tempRMSN8 = np.genfromtxt(fname='runStatistics8.log', skip_header=1, usecols = (1, 3, 4), unpack=True)\n",
    "os.chdir(molyn10Dir)\n",
    "timeN10, tempAvgN10,tempRMSN10 = np.genfromtxt(fname='runStatistics10.log', skip_header=1, usecols = (1, 3, 4), unpack=True)\n",
    "os.chdir(notebooksDir)\n",
    "\n",
    "\n",
    "plt.close('all')\n",
    "#    Enter x, y variables to plot:\n",
    "x_var, x_var1, x_var2 = timeN6, timeN8, timeN10\n",
    "y_var, y_var1, y_var2 = tempAvgN6, tempAvgN8, tempAvgN10\n",
    "\n",
    "##############       Format Plot Area      #############################\n",
    "fig, ax = plt.subplots()\n",
    "color = 'tab:red'\n",
    "ax.set_xlim(min(x_var1), max(x_var1))\n",
    "ax.set_ylim(min(y_var1), max(y_var1))\n",
    "#ax.set_xlim(min(120,140), max(120,140))\n",
    "#ax.set_ylim(min(26.5,26.66), max(26.33,26.75))\n",
    "ax.tick_params(axis='x',)\n",
    "ax.tick_params(axis='y', labelsize=14)\n",
    "#plt.ticklabel_format(style='sci', axis='x', scilimits=(0,0))\n",
    "\n",
    "##############       Set Text          #############################\n",
    "ax.set_title('Volumetric Average Temperature', size = 18)\n",
    "ax.set_xlabel('$Time({sec})$', size = 14)#, color=color);\n",
    "ax.set_ylabel(r'$Temperature\\,(^{\\circ}C)$', size = 14)\n",
    "\n",
    "n6 = ax.plot(x_var,y_var, \"--\", label=\"N6\")#, linestyle=':')#, color=color)\n",
    "n8 = ax.plot(x_var1,y_var1, linestyle='--', dashes=(3, 7), label=\"N8\")#, color=color)\n",
    "n10 = ax.plot(x_var2, y_var2, linestyle='--', dashes=(6, 14), color=\"black\", label=\"N10\")\n",
    "\n",
    "ns = n6 + n8+ n10\n",
    "labs = [l.get_label() for l in ns]\n",
    "ax.legend(ns, labs, loc=7,handlelength=3, fontsize=14)\n",
    "\n",
    "matplotlib.rc('xtick', labelsize=14)\n",
    "\n",
    "fig.tight_layout()\n",
    "box = ax.get_position()\n",
    "ax.set_position([box.x0, box.y0, box.width * 2, box.height*2])\n",
    "\n",
    "plt.show()\n",
    "os.chdir(casesMoly)\n",
    "fig.savefig('molyAvgTemps.jpg', bbox_inches='tight', transparent=True)\n",
    "os.chdir(notebooksDir)"
   ]
  },
  {
   "cell_type": "markdown",
   "metadata": {},
   "source": [
    "<h3>Computational Time Statistics</h3>"
   ]
  },
  {
   "cell_type": "code",
   "execution_count": 13,
   "metadata": {},
   "outputs": [
    {
     "name": "stdout",
     "output_type": "stream",
     "text": [
      "Total N6 computational time for 127 simulation seconds:\t   1.351 days\n",
      "Total N8DNS computational time for 180 simulation seconds: 3.192 days\n",
      "Total N8LES computational time for 180 simulation seconds: 3.190 days\n",
      "Total N10 computational time for 127 simulation seconds:   6.562 days\n"
     ]
    }
   ],
   "source": [
    "import datetime\n",
    "#datetime(year,month,day,hour(24),minute,second,microsecond)\n",
    "startN6   = datetime.datetime(2018,10,29,16,21,0,0)\n",
    "endN6     = datetime.datetime(2018,10,31,0,47,0,0)\n",
    "deltaN6   = (endN6 - startN6)\n",
    "deltaN6   = (deltaN6.days*86400 + deltaN6.seconds)/60   #minutes\n",
    "print(\"Total N6 computational time for 127 simulation seconds:\\t  \",'{:.3f}'.format(deltaN6/(60*24)),\"days\")\n",
    "\n",
    "startN8   = datetime.datetime(2018,11,1,11,6,0,0)\n",
    "endN8     = datetime.datetime(2018,11,4,15,43,0,0)\n",
    "deltaN8   = (endN8 - startN8)\n",
    "deltaN8   = (deltaN8.days*86400 + deltaN8.seconds)/60    #minutes\n",
    "print(\"Total N8DNS computational time for 180 simulation seconds:\",'{:.3f}'.format(deltaN8/(60*24)),\"days\")\n",
    "\n",
    "startN8LES   = datetime.datetime(2018,11,21,11,43,0,0)\n",
    "endN8LES     = datetime.datetime(2018,11,24,16,17,0,0)\n",
    "deltaN8LES   = (endN8LES - startN8LES)\n",
    "deltaN8LES   = (deltaN8LES.days*86400 + deltaN8LES.seconds)/60    #minutes\n",
    "print(\"Total N8LES computational time for 180 simulation seconds:\",'{:.3f}'.format(deltaN8LES/(60*24)),\"days\")\n",
    "\n",
    "startN10   = datetime.datetime(2018,11,5,8,34,0,0)\n",
    "endN10     = datetime.datetime(2018,11,11,22,3,0,0)\n",
    "deltaN10   = (endN10 - startN10)\n",
    "deltaN10   = (deltaN10.days*86400 + deltaN10.seconds)/60  #minutes\n",
    "print(\"Total N10 computational time for 127 simulation seconds:  \", '{:.3f}'.format(deltaN10/(60*24)),\"days\")\n"
   ]
  },
  {
   "cell_type": "markdown",
   "metadata": {},
   "source": [
    "<h3>Percentages @ 127 seconds</h3>"
   ]
  },
  {
   "cell_type": "code",
   "execution_count": 14,
   "metadata": {},
   "outputs": [
    {
     "name": "stdout",
     "output_type": "stream",
     "text": [
      "N8 computational time to 127 seconds sim time:\t 2.17 days\n",
      "N6 is 79.41 % faster than N10\n",
      "Approximate N10 computational time to 127 seconds sim time:\t 6.56 days\n",
      "N8 is 66.89 % faster than N10\n",
      "Approximate N6 computational time to 127 seconds sim time:\t 2.17 days\n",
      "N8 is 66.89 % faster than N10\n"
     ]
    }
   ],
   "source": [
    "n8At127sec = datetime.datetime(2018,11,3,15,15,0,0)\n",
    "delta2N8   = (n8At127sec - startN8)\n",
    "delta2N8   = (delta2N8.days*86400 + delta2N8.seconds)/60    #minutes\n",
    "\n",
    "n8LESAt127sec = datetime.datetime(2018,11,23,15,50,0,0)\n",
    "delta2N8LES   = (n8LESAt127sec - startN8LES)\n",
    "delta2N8LES   = (delta2N8LES.days*86400 + delta2N8LES.seconds)/60    #minutes\n",
    "\n",
    "n10At127sec = datetime.datetime(2018,11,11,22,3,0,0)\n",
    "delta2N10   = (n10At127sec - startN10)\n",
    "delta2N10   = (delta2N10.days*86400 + delta2N10.seconds)/60    #minutes\n",
    "\n",
    "print(\"N8 computational time to 127 seconds sim time:\\t\",'{:.2f}'.format(delta2N8/(60*24)),\"days\")\n",
    "print(\"N6 is\", '{:.2f}'.format((1-(deltaN6/delta2N10))*100),\"% faster than N10\")\n",
    "\n",
    "print(\"Approximate N10 computational time to 127 seconds sim time:\\t\",'{:.2f}'.format(delta2N10/(60*24)),\"days\")\n",
    "print(\"N8 is\", '{:.2f}'.format((1-(delta2N8/delta2N10))*100),\"% faster than N10\")\n",
    "\n",
    "print(\"Approximate N6 computational time to 127 seconds sim time:\\t\",'{:.2f}'.format(delta2N8LES/(60*24)),\"days\")\n",
    "print(\"N8 is\", '{:.2f}'.format((1-(delta2N8/delta2N10))*100),\"% faster than N10\")"
   ]
  },
  {
   "cell_type": "code",
   "execution_count": 15,
   "metadata": {},
   "outputs": [
    {
     "data": {
      "image/png": "[encoded data removed]",
      "text/plain": [
       "<Figure size 960x740 with 1 Axes>"
      ]
     },
     "metadata": {},
     "output_type": "display_data"
    }
   ],
   "source": [
    "plt.close('all')\n",
    "#    Enter x, y variables to plot:\n",
    "x_var, y_var = np.array([6,8,10]), np.array([0.64, 1.5, 2.9])\n",
    "\n",
    "#    Define plot area:\n",
    "fig=plt.figure(figsize=(12, 9.25), dpi= 80, facecolor='w', edgecolor='k')\n",
    "\n",
    "plt.title(\"N vs File Size\",size = 18)\n",
    "plt.xlabel(r'$N$', size = 16)\n",
    "plt.ylabel(r'$File Size\\,\\,\\, (GB)$', size = 16)#, color=color);\n",
    "\n",
    "plt.xticks(np.arange(6, 11, 1), size = 14)\n",
    "plt.yticks(np.arange(0, 3.25, 0.5), size = 14)\n",
    "\n",
    "plt.plot(x_var,y_var, \"-o\", label=\"N6\")\n",
    "\n",
    "plt.tight_layout()\n",
    "plt.show()\n",
    "\n",
    "os.chdir(casesMoly)\n",
    "fig.savefig('fileSizePlot.jpg', bbox_inches='tight', transparent=True)\n",
    "os.chdir(notebooksDir)"
   ]
  },
  {
   "cell_type": "code",
   "execution_count": 16,
   "metadata": {},
   "outputs": [
    {
     "data": {
      "image/png": "[encoded data removed]",
      "text/plain": [
       "<Figure size 960x740 with 1 Axes>"
      ]
     },
     "metadata": {},
     "output_type": "display_data"
    }
   ],
   "source": [
    "plt.close('all')\n",
    "#    Enter x, y variables to plot:\n",
    "x_var, y_var = np.array([6,8,10]), np.array([deltaN6, delta2N8, delta2N10])/(60*24)\n",
    "\n",
    "#    Define plot area:\n",
    "fig=plt.figure(figsize=(12, 9.25), dpi= 80, facecolor='w', edgecolor='k')\n",
    "\n",
    "plt.title(\"N vs Runtime\",size = 18)\n",
    "plt.xlabel(r'$N$', size = 16)\n",
    "plt.ylabel(r'$Runtime\\,\\,\\,(days)$', size = 16)#, color=color);\n",
    "\n",
    "plt.xticks(np.arange(6, 11, 1), size = 14)\n",
    "plt.yticks(np.arange(1.0, 7.5, 0.5), size = 14)\n",
    "\n",
    "plt.plot(x_var,y_var, \"-o\", label=\"N6\")\n",
    "\n",
    "plt.tight_layout()\n",
    "plt.show()\n",
    "\n",
    "os.chdir(casesMoly)\n",
    "fig.savefig('compTimePlot.jpg', bbox_inches='tight', transparent=True)\n",
    "os.chdir(notebooksDir)"
   ]
  },
  {
   "cell_type": "code",
   "execution_count": 17,
   "metadata": {},
   "outputs": [
    {
     "ename": "ValueError",
     "evalue": "operands could not be broadcast together with shapes (68,) (134,) ",
     "output_type": "error",
     "traceback": [
      "\u001b[0;31m---------------------------------------------------------------------------\u001b[0m",
      "\u001b[0;31mValueError\u001b[0m                                Traceback (most recent call last)",
      "\u001b[0;32m<ipython-input-17-9bc0c56ce4c3>\u001b[0m in \u001b[0;36m<module>\u001b[0;34m\u001b[0m\n\u001b[1;32m     13\u001b[0m \u001b[0mx_var\u001b[0m\u001b[0;34m,\u001b[0m \u001b[0mx_var1\u001b[0m\u001b[0;34m,\u001b[0m \u001b[0mx_var2\u001b[0m\u001b[0;34m,\u001b[0m \u001b[0mx_var3\u001b[0m \u001b[0;34m=\u001b[0m \u001b[0mtimeN6\u001b[0m\u001b[0;34m,\u001b[0m \u001b[0mtimeN8\u001b[0m\u001b[0;34m[\u001b[0m\u001b[0;36m0\u001b[0m\u001b[0;34m:\u001b[0m\u001b[0;36m134\u001b[0m\u001b[0;34m]\u001b[0m\u001b[0;34m,\u001b[0m \u001b[0mtimeN6\u001b[0m\u001b[0;34m,\u001b[0m \u001b[0mtimeN6T2\u001b[0m\u001b[0;34m\u001b[0m\u001b[0;34m\u001b[0m\u001b[0m\n\u001b[1;32m     14\u001b[0m \u001b[0my_var\u001b[0m  \u001b[0;34m=\u001b[0m \u001b[0mabs\u001b[0m\u001b[0;34m(\u001b[0m\u001b[0;34m(\u001b[0m\u001b[0mtempRMSN8\u001b[0m\u001b[0;34m[\u001b[0m\u001b[0;36m0\u001b[0m\u001b[0;34m:\u001b[0m\u001b[0;36m128\u001b[0m\u001b[0;34m]\u001b[0m\u001b[0;34m-\u001b[0m\u001b[0mtempRMSN6\u001b[0m\u001b[0;34m)\u001b[0m\u001b[0;34m)\u001b[0m\u001b[0;34m\u001b[0m\u001b[0;34m\u001b[0m\u001b[0m\n\u001b[0;32m---> 15\u001b[0;31m \u001b[0my_var1\u001b[0m \u001b[0;34m=\u001b[0m \u001b[0mabs\u001b[0m\u001b[0;34m(\u001b[0m\u001b[0;34m(\u001b[0m\u001b[0mtempRMSN10\u001b[0m\u001b[0;34m[\u001b[0m\u001b[0;36m0\u001b[0m\u001b[0;34m:\u001b[0m\u001b[0;36m134\u001b[0m\u001b[0;34m]\u001b[0m\u001b[0;34m-\u001b[0m\u001b[0mtempRMSN8\u001b[0m\u001b[0;34m[\u001b[0m\u001b[0;36m0\u001b[0m\u001b[0;34m:\u001b[0m\u001b[0;36m134\u001b[0m\u001b[0;34m]\u001b[0m\u001b[0;34m)\u001b[0m\u001b[0;34m)\u001b[0m\u001b[0;34m\u001b[0m\u001b[0;34m\u001b[0m\u001b[0m\n\u001b[0m\u001b[1;32m     16\u001b[0m \u001b[0my_var2\u001b[0m \u001b[0;34m=\u001b[0m \u001b[0mabs\u001b[0m\u001b[0;34m(\u001b[0m\u001b[0;34m(\u001b[0m\u001b[0mtempRMSN10\u001b[0m\u001b[0;34m[\u001b[0m\u001b[0;36m0\u001b[0m\u001b[0;34m:\u001b[0m\u001b[0;36m128\u001b[0m\u001b[0;34m]\u001b[0m\u001b[0;34m-\u001b[0m\u001b[0mtempRMSN6\u001b[0m\u001b[0;34m)\u001b[0m\u001b[0;34m)\u001b[0m\u001b[0;34m\u001b[0m\u001b[0;34m\u001b[0m\u001b[0m\n\u001b[1;32m     17\u001b[0m \u001b[0my_var3\u001b[0m \u001b[0;34m=\u001b[0m \u001b[0mabs\u001b[0m\u001b[0;34m(\u001b[0m\u001b[0;34m(\u001b[0m\u001b[0mtempRMSN10\u001b[0m\u001b[0;34m[\u001b[0m\u001b[0;36m0\u001b[0m\u001b[0;34m:\u001b[0m\u001b[0;36m101\u001b[0m\u001b[0;34m]\u001b[0m\u001b[0;34m-\u001b[0m\u001b[0mtempRMSN6T2\u001b[0m\u001b[0;34m)\u001b[0m\u001b[0;34m)\u001b[0m\u001b[0;34m\u001b[0m\u001b[0;34m\u001b[0m\u001b[0m\n",
      "\u001b[0;31mValueError\u001b[0m: operands could not be broadcast together with shapes (68,) (134,) "
     ]
    }
   ],
   "source": [
    "#    Update run stats --> Delete once runs are complete --> uncomment above cell\n",
    "#os.chdir(molyn6Dir)\n",
    "#timeN6, tempAvgN6,tempRMSN6 = np.genfromtxt(fname='runStatistics6.log', skip_header=1, usecols = (1, 3, 4), unpack=True)\n",
    "#os.chdir(molyn8Dir)\n",
    "#timeN8, tempAvgN8,tempRMSN8 = np.genfromtxt(fname='runStatistics8.log', skip_header=1, usecols = (1, 3, 4), unpack=True)\n",
    "#os.chdir(molyn10Dir)\n",
    "#timeN10, tempAvgN10,tempRMSN10 = np.genfromtxt(fname='runStatistics10.log', skip_header=1, usecols = (1, 3, 4), unpack=True)\n",
    "#os.chdir(notebooksDir)\n",
    "\n",
    "\n",
    "plt.close('all')\n",
    "#    Enter x, y variables to plot:\n",
    "x_var, x_var1, x_var2, x_var3 = timeN6, timeN8[0:134], timeN6, timeN6T2\n",
    "y_var  = abs((tempRMSN8[0:128]-tempRMSN6))\n",
    "y_var1 = abs((tempRMSN10[0:134]-tempRMSN8[0:134]))\n",
    "y_var2 = abs((tempRMSN10[0:128]-tempRMSN6))\n",
    "y_var3 = abs((tempRMSN10[0:101]-tempRMSN6T2))\n",
    "\n",
    "##############       Format Plot Area      #############################\n",
    "fig, ax = plt.subplots()\n",
    "color = 'tab:red'\n",
    "xticks(range(0,140,10))\n",
    "#ax.set_ylim(min(y_var2), max(y_var2))\n",
    "#ax.set_xlim(min(120,140), max(120,140))\n",
    "#ax.set_ylim(min(26.5,26.66), max(26.33,26.75))\n",
    "ax.tick_params(axis='x',)\n",
    "ax.tick_params(axis='y', labelsize=14)\n",
    "plt.ticklabel_format(style='sci', axis='y', scilimits=(0,0))\n",
    "\n",
    "##############       Set Text          #############################\n",
    "ax.set_title('Delta Root Mean Square Comparison', size = 18)\n",
    "ax.set_xlabel('$Time({sec})$', size = 14)#, color=color);\n",
    "ax.set_ylabel(r'$Temperature\\,(^{\\circ}C)$', size = 14)\n",
    "\n",
    "#n6 = ax.plot(x_var,y_var, \"--\", label=\"diffN8N6\")#, linestyle=':')#, color=color)\n",
    "#n8 = ax.plot(x_var1,y_var1, linestyle='--', dashes=(3, 7), label=\"diffN10N8\")#, color=color)\n",
    "#n10 = ax.plot(x_var2, y_var2, linestyle='--', dashes=(6, 14), color=\"black\", label=\"diffN10N6\")\n",
    "n6 = ax.plot(x_var,y_var, \"-\", label=\"$\\Delta\\,RMS\\,N8N6$\")#, linestyle=':')#, color=color)\n",
    "n8 = ax.plot(x_var1,y_var1, linestyle='-', label=\"$\\Delta\\,RMS\\,N10N8$\")#, color=color)\n",
    "n10 = ax.plot(x_var2, y_var2, linestyle='-', color=\"black\", label=\"$\\Delta\\,RMS\\,N10N6$\")\n",
    "#n6T2 = ax.plot(x_var3,y_var3, \"-\", label=\"$\\Delta\\,RMS\\,N8N6T2$\")#, linestyle=':')#, color=color)\n",
    "\n",
    "ns = n6 + n8 + n10# + n6T2 \n",
    "labs = [l.get_label() for l in ns]\n",
    "ax.legend(ns, labs, loc=6,handlelength=2, fontsize=14)\n",
    "\n",
    "matplotlib.rc('xtick', labelsize=14)\n",
    "\n",
    "fig.tight_layout()\n",
    "box = ax.get_position()\n",
    "ax.set_position([box.x0, box.y0, box.width * 2, box.height*2])\n",
    "\n",
    "plt.show()\n",
    "os.chdir(casesMoly)\n",
    "fig.savefig('molyDeltaRMS.jpg', bbox_inches='tight', transparent=True)\n",
    "os.chdir(notebooksDir)"
   ]
  },
  {
   "cell_type": "markdown",
   "metadata": {},
   "source": [
    "<h3>Vol Avg Temp N=8: DNS vs LES</h3>"
   ]
  },
  {
   "cell_type": "code",
   "execution_count": null,
   "metadata": {},
   "outputs": [],
   "source": [
    "#    Update run stats --> Delete once runs are complete --> uncomment above cell\n",
    "os.chdir(molyn8Dir)\n",
    "timeN8, tempAvgN8, tempRMSN8 = np.genfromtxt(fname='runStatistics8.log', skip_header=1, usecols = (1, 3, 4), unpack=True)\n",
    "os.chdir(molyn8DirLES)\n",
    "timeN8LES, tempAvgN8LES, tempRMSN8LES = np.genfromtxt(fname='runStatistics8LES.log', skip_header=1, usecols = (1, 3, 4), unpack=True)\n",
    "os.chdir(notebooksDir)\n",
    "\n",
    "\n",
    "plt.close('all')\n",
    "#    Enter x, y variables to plot:\n",
    "x_var, x_var1 = timeN8, timeN8LES\n",
    "y_var, y_var1 = tempAvgN8, tempAvgN8LES\n",
    "\n",
    "##############       Format Plot Area      #############################\n",
    "fig, ax = plt.subplots()\n",
    "color = 'tab:red'\n",
    "ax.set_xlim(min(x_var1), max(x_var1))\n",
    "ax.set_ylim(min(y_var1), max(y_var1))\n",
    "ax.tick_params(axis='x',)\n",
    "ax.tick_params(axis='y', labelsize=14)\n",
    "#plt.ticklabel_format(style='sci', axis='x', scilimits=(0,0))\n",
    "\n",
    "##############       Set Text          #############################\n",
    "ax.set_title('N=8: DNS vs LES', size = 18)\n",
    "ax.set_xlabel('$Time({sec})$', size = 14)#, color=color);\n",
    "ax.set_ylabel(r'$Temperature\\,(^{\\circ}C)$', size = 14)\n",
    "\n",
    "DNS = ax.plot(x_var,y_var, \"--\", label=\"$DNS$\")#, linestyle=':')#, color=color)\n",
    "LES = ax.plot(x_var1,y_var1, linestyle='--', dashes=(3, 7), label=\"$LES$\")#, color=color)\n",
    "\n",
    "ns = DNS + LES\n",
    "labs = [l.get_label() for l in ns]\n",
    "ax.legend(ns, labs, loc=7,handlelength=3, title=\"$Vol_{Avg}\\,\\,Temp$\", fontsize=14)\n",
    "\n",
    "\n",
    "matplotlib.rc('xtick', labelsize=14)\n",
    "\n",
    "fig.tight_layout()\n",
    "box = ax.get_position()\n",
    "ax.set_position([box.x0, box.y0, box.width * 2, box.height*2])\n",
    "\n",
    "plt.show()\n",
    "os.chdir(casesMoly)\n",
    "fig.savefig('LESvsDNS.jpg', bbox_inches='tight', transparent=True)\n",
    "os.chdir(notebooksDir)"
   ]
  },
  {
   "cell_type": "markdown",
   "metadata": {},
   "source": [
    "<h3>RMS N=8: DNS vs LES</h3>"
   ]
  },
  {
   "cell_type": "code",
   "execution_count": 22,
   "metadata": {},
   "outputs": [
    {
     "ename": "ValueError",
     "evalue": "operands could not be broadcast together with shapes (181,) (68,) ",
     "output_type": "error",
     "traceback": [
      "\u001b[0;31m---------------------------------------------------------------------------\u001b[0m",
      "\u001b[0;31mValueError\u001b[0m                                Traceback (most recent call last)",
      "\u001b[0;32m<ipython-input-22-84a505009b6b>\u001b[0m in \u001b[0;36m<module>\u001b[0;34m\u001b[0m\n\u001b[1;32m      2\u001b[0m \u001b[0;31m#    Enter x, y variables to plot:\u001b[0m\u001b[0;34m\u001b[0m\u001b[0;34m\u001b[0m\u001b[0;34m\u001b[0m\u001b[0m\n\u001b[1;32m      3\u001b[0m \u001b[0mx_var\u001b[0m  \u001b[0;34m=\u001b[0m \u001b[0mtimeN8\u001b[0m\u001b[0;34m\u001b[0m\u001b[0;34m\u001b[0m\u001b[0m\n\u001b[0;32m----> 4\u001b[0;31m \u001b[0my_var\u001b[0m  \u001b[0;34m=\u001b[0m \u001b[0;34m(\u001b[0m\u001b[0;34m(\u001b[0m\u001b[0mtempRMSN8\u001b[0m\u001b[0;34m-\u001b[0m\u001b[0mtempRMSN10\u001b[0m\u001b[0;34m[\u001b[0m\u001b[0;36m0\u001b[0m\u001b[0;34m:\u001b[0m\u001b[0;36m68\u001b[0m\u001b[0;34m]\u001b[0m\u001b[0;34m)\u001b[0m\u001b[0;34m)\u001b[0m\u001b[0;34m\u001b[0m\u001b[0;34m\u001b[0m\u001b[0m\n\u001b[0m\u001b[1;32m      5\u001b[0m \u001b[0my_var1\u001b[0m \u001b[0;34m=\u001b[0m \u001b[0;34m(\u001b[0m\u001b[0;34m(\u001b[0m\u001b[0mtempRMSN8LES\u001b[0m\u001b[0;34m[\u001b[0m\u001b[0;36m0\u001b[0m\u001b[0;34m:\u001b[0m\u001b[0;36m181\u001b[0m\u001b[0;34m]\u001b[0m\u001b[0;34m-\u001b[0m\u001b[0mtempRMSN10\u001b[0m\u001b[0;34m[\u001b[0m\u001b[0;36m0\u001b[0m\u001b[0;34m:\u001b[0m\u001b[0;36m181\u001b[0m\u001b[0;34m]\u001b[0m\u001b[0;34m)\u001b[0m\u001b[0;34m)\u001b[0m\u001b[0;34m\u001b[0m\u001b[0;34m\u001b[0m\u001b[0m\n\u001b[1;32m      6\u001b[0m \u001b[0my_var2\u001b[0m \u001b[0;34m=\u001b[0m \u001b[0;34m(\u001b[0m\u001b[0;34m(\u001b[0m\u001b[0mtempRMSN8\u001b[0m\u001b[0;34m-\u001b[0m\u001b[0mtempRMSN8LES\u001b[0m\u001b[0;34m[\u001b[0m\u001b[0;36m0\u001b[0m\u001b[0;34m:\u001b[0m\u001b[0;36m181\u001b[0m\u001b[0;34m]\u001b[0m\u001b[0;34m)\u001b[0m\u001b[0;34m)\u001b[0m\u001b[0;34m\u001b[0m\u001b[0;34m\u001b[0m\u001b[0m\n",
      "\u001b[0;31mValueError\u001b[0m: operands could not be broadcast together with shapes (181,) (68,) "
     ]
    }
   ],
   "source": [
    "plt.close('all')\n",
    "#    Enter x, y variables to plot:\n",
    "x_var  = timeN8\n",
    "y_var  = ((tempRMSN8-tempRMSN10[0:181]))\n",
    "y_var1 = ((tempRMSN8LES[0:181]-tempRMSN10[0:181]))\n",
    "y_var2 = ((tempRMSN8-tempRMSN8LES[0:181]))\n",
    "\n",
    "##############       Format Plot Area      #############################\n",
    "fig, ax = plt.subplots()\n",
    "color = 'tab:red'\n",
    "ax.set_xlim(min(x_var)+120, max(x_var)+5)\n",
    "ax.set_ylim(min(y_var1)-0.00125, 0.04875)#max(y_var1))\n",
    "ax.tick_params(axis='x',)\n",
    "ax.tick_params(axis='y', labelsize=14)\n",
    "#plt.ticklabel_format(style='sci', axis='x', scilimits=(0,0))\n",
    "\n",
    "##############       Set Text          #############################\n",
    "ax.set_title('RMS: DNS vs LES', size = 18)\n",
    "ax.set_xlabel('$Time({sec})$', size = 14)#, color=color);\n",
    "ax.set_ylabel(r'$Temperature\\,(^{\\circ}C)$', size = 14)\n",
    "\n",
    "DNS = ax.plot(x_var, y_var, linestyle='-', label=\"$N8_{DNS}-N10_{DNS}$\")#, color=color)\n",
    "LES = ax.plot(x_var, y_var1, linestyle='-', color=\"black\", label=\"$N8_{LES}-N10_{DNS}$\")\n",
    "n8 = ax.plot(x_var, y_var2, linestyle='-', label=\"$N8_{DNS}-N8_{LES}$\")\n",
    "\n",
    "ns = DNS + LES + n8\n",
    "labs = [l.get_label() for l in ns]\n",
    "ax.legend(ns, labs, loc=6,handlelength=2, title = \"$\\Delta\\,RMS$\", fontsize=14)\n",
    "\n",
    "matplotlib.rc('xtick', labelsize=14)\n",
    "\n",
    "fig.tight_layout()\n",
    "box = ax.get_position()\n",
    "ax.set_position([box.x0, box.y0, box.width * 2, box.height*2])\n",
    "\n",
    "plt.show()\n",
    "os.chdir(casesMoly);\n",
    "fig.savefig('molyRMSDNSLES.jpg', bbox_inches='tight', transparent=True);\n",
    "os.chdir(notebooksDir);"
   ]
  },
  {
   "cell_type": "code",
   "execution_count": null,
   "metadata": {},
   "outputs": [],
   "source": [
    "max(abs((tempRMSN8[0:134]-tempRMSN8LES[0:134])));"
   ]
  },
  {
   "cell_type": "code",
   "execution_count": null,
   "metadata": {},
   "outputs": [],
   "source": []
  },
  {
   "cell_type": "markdown",
   "metadata": {},
   "source": [
    "<h3>N=8: LES vs DNS Time Comparison @ 180 seconds</h3>"
   ]
  },
  {
   "cell_type": "code",
   "execution_count": null,
   "metadata": {
    "scrolled": false
   },
   "outputs": [],
   "source": [
    "print(\"Total N8DNS computational time for 180 simulation seconds:\",'{:.3f}'.format(deltaN8/(60*24)),\"days\")\n",
    "print(\"Total N8LES computational time for 180 simulation seconds:\",'{:.3f}'.format(deltaN8LES/(60*24)),\"days\")\n",
    "print(\"N8LES is\", '{:.2f}'.format((1-(deltaN8LES/deltaN8))*100),\"% faster than N8DNS\")\n"
   ]
  },
  {
   "cell_type": "markdown",
   "metadata": {},
   "source": [
    "<h3>LES N=6 vs. N=8 </h3>"
   ]
  },
  {
   "cell_type": "code",
   "execution_count": null,
   "metadata": {},
   "outputs": [],
   "source": [
    "#    Update run stats --> Delete once runs are complete --> uncomment above cell\n",
    "os.chdir(molyn6DirLES)\n",
    "timeN6LES, tempAvgN6LES, tempRMSN6LES = np.genfromtxt(fname='runStatistics6LES.log', skip_header=1, usecols = (1, 3, 4), unpack=True)\n",
    "os.chdir(molyn8DirLES)\n",
    "timeN8LES, tempAvgN8LES, tempRMSN8LES = np.genfromtxt(fname='runStatistics8LES.log', skip_header=1, usecols = (1, 3, 4), unpack=True)\n",
    "os.chdir(notebooksDir)\n",
    "\n",
    "\n",
    "plt.close('all')\n",
    "#    Enter x, y variables to plot:\n",
    "x_var, x_var1 = timeN6LES, timeN8LES\n",
    "y_var, y_var1 = tempAvgN6LES, tempAvgN8LES\n",
    "\n",
    "##############       Format Plot Area      #############################\n",
    "fig, ax = plt.subplots()\n",
    "color = 'tab:red'\n",
    "ax.set_xlim(min(x_var1), max(x_var1))\n",
    "ax.set_ylim(min(y_var1), max(y_var1))\n",
    "ax.tick_params(axis='x',)\n",
    "ax.tick_params(axis='y', labelsize=14)\n",
    "#plt.ticklabel_format(style='sci', axis='x', scilimits=(0,0))\n",
    "\n",
    "##############       Set Text          #############################\n",
    "ax.set_title('LES: N=6 vs. N=8', size = 18)\n",
    "ax.set_xlabel('$Time({sec})$', size = 14)#, color=color);\n",
    "ax.set_ylabel(r'$Temperature\\,(^{\\circ}C)$', size = 14)\n",
    "\n",
    "N6 = ax.plot(x_var,y_var, \"--\", label=\"$N=6$\")#, linestyle=':')#, color=color)\n",
    "N8 = ax.plot(x_var1,y_var1, linestyle='--', dashes=(3, 7), label=\"$N=8$\")#, color=color)\n",
    "\n",
    "ns = N6 + N8\n",
    "labs = [l.get_label() for l in ns]\n",
    "ax.legend(ns, labs, loc=7,handlelength=3, title=\"$Vol_{Avg}\\,\\,Temp$\", fontsize=14)\n",
    "\n",
    "\n",
    "matplotlib.rc('xtick', labelsize=14)\n",
    "\n",
    "fig.tight_layout()\n",
    "box = ax.get_position()\n",
    "ax.set_position([box.x0, box.y0, box.width * 2, box.height*2])\n",
    "\n",
    "plt.show()\n",
    "os.chdir(casesMoly)\n",
    "fig.savefig('LESN6vsN8.jpg', bbox_inches='tight', transparent=True)\n",
    "os.chdir(notebooksDir)"
   ]
  },
  {
   "cell_type": "markdown",
   "metadata": {},
   "source": [
    "<h3>RMS LES: N=6 vs. N=8</h3>"
   ]
  },
  {
   "cell_type": "code",
   "execution_count": null,
   "metadata": {},
   "outputs": [],
   "source": [
    "plt.close('all')\n",
    "#    Enter x, y variables to plot:\n",
    "x_var  = timeN8LES[0:169]\n",
    "y_var  = ((tempRMSN6LES-tempRMSN8LES[0:169]))\n",
    "y_var1 = ((tempRMSN6LES-tempRMSN10[0:169]))\n",
    "y_var2 = ((tempRMSN8LES[0:169]-tempRMSN10[0:169]))\n",
    "\n",
    "##############       Format Plot Area      #############################\n",
    "fig, ax = plt.subplots()\n",
    "color = 'tab:red'\n",
    "ax.set_xlim(min(x_var)+50, max(x_var)+5)\n",
    "ax.set_ylim(min(y_var1)-0.00125, 0.034875)#max(y_var1))\n",
    "ax.tick_params(axis='x',)\n",
    "ax.tick_params(axis='y', labelsize=14)\n",
    "#plt.ticklabel_format(style='sci', axis='x', scilimits=(0,0))\n",
    "\n",
    "##############       Set Text          #############################\n",
    "ax.set_title('RMS Comparison', size = 18)\n",
    "ax.set_xlabel('$Time({sec})$', size = 14)#, color=color);\n",
    "ax.set_ylabel(r'$Temperature\\,(^{\\circ}C)$', size = 14)\n",
    "\n",
    "n6n10 = ax.plot(x_var, y_var1, linestyle='-', label=\"$N6_{LES}-N10_{DNS}$\")\n",
    "n8n10 = ax.plot(x_var, y_var2, linestyle='-', label=\"$N8_{LES}-N10_{DNS}$\")\n",
    "n6n8 = ax.plot(x_var, y_var, linestyle='-', color=\"black\", label=\"$N6_{LES}-N8_{LES}$\")#, color=color)\n",
    "\n",
    "ns =  n6n10 + n8n10 + n6n8\n",
    "labs = [l.get_label() for l in ns]\n",
    "ax.legend(ns, labs, loc=6,handlelength=2, title = \"$\\Delta\\,RMS$\", fontsize=14)\n",
    "\n",
    "matplotlib.rc('xtick', labelsize=14)\n",
    "\n",
    "fig.tight_layout()\n",
    "box = ax.get_position()\n",
    "ax.set_position([box.x0, box.y0, box.width * 2, box.height*2])\n",
    "\n",
    "plt.show()\n",
    "os.chdir(casesMoly);\n",
    "fig.savefig('molyRMSLESN6N8.jpg', bbox_inches='tight', transparent=True);\n",
    "os.chdir(notebooksDir);"
   ]
  },
  {
   "cell_type": "code",
   "execution_count": null,
   "metadata": {},
   "outputs": [],
   "source": [
    "max(abs((tempRMSN8[0:134]-tempRMSN8LES[0:134])));"
   ]
  },
  {
   "cell_type": "code",
   "execution_count": null,
   "metadata": {},
   "outputs": [],
   "source": [
    "timeN6LES"
   ]
  },
  {
   "cell_type": "markdown",
   "metadata": {},
   "source": [
    "<h3>LES: N=8 vs N=6 Time Comparison @ 170 seconds</h3>"
   ]
  },
  {
   "cell_type": "code",
   "execution_count": null,
   "metadata": {},
   "outputs": [],
   "source": [
    "startN6LES   = datetime.datetime(2018,11,27,12,33,0,0)\n",
    "endN6LES     = datetime.datetime(2018,11,29,15,51,0,0)\n",
    "deltaN6LES   = (endN6LES - startN6LES)\n",
    "deltaN6LES   = (deltaN6LES.days*86400 + deltaN6LES.seconds)/60    #minutes\n",
    "print(\"Total N6LES computational time for 180 simulation seconds:\",'{:.3f}'.format(deltaN6LES/(60*24)),\"days\")\n",
    "startN8LES   = datetime.datetime(2018,11,21,11,43,0,0)\n",
    "endN8LES     = datetime.datetime(2018,11,24,11,45,0,0)\n",
    "deltaN8LES   = (endN8LES - startN8LES)\n",
    "deltaN8LES   = (deltaN8LES.days*86400 + deltaN8LES.seconds)/60    #minutes\n",
    "print(\"Total N8DNS computational time for 180 simulation seconds:\",'{:.3f}'.format(deltaN8/(60*24)),\"days\")\n",
    "print(\"Total N8LES computational time for 180 simulation seconds:\",'{:.3f}'.format(deltaN8LES/(60*24)),\"days\")\n",
    "print(\"N6LES is\", '{:.2f}'.format((1-(deltaN6LES/deltaN8LES))*100),\"% faster than N8LES\")\n"
   ]
  },
  {
   "cell_type": "markdown",
   "metadata": {},
   "source": [
    "<h3> Ethereum Cost Basis</h3>"
   ]
  },
  {
   "cell_type": "code",
   "execution_count": null,
   "metadata": {},
   "outputs": [],
   "source": [
    "print(\"My ethereum coin basis is $\",'{:3.2f}'.format(740/2.79135929))"
   ]
  },
  {
   "cell_type": "code",
   "execution_count": null,
   "metadata": {},
   "outputs": [],
   "source": [
    "timeN10"
   ]
  },
  {
   "cell_type": "code",
   "execution_count": null,
   "metadata": {},
   "outputs": [],
   "source": []
  }
 ],
 "metadata": {
  "celltoolbar": "Raw Cell Format",
  "kernelspec": {
   "display_name": "Python 3",
   "language": "python",
   "name": "python3"
  },
  "language_info": {
   "codemirror_mode": {
    "name": "ipython",
    "version": 3
   },
   "file_extension": ".py",
   "mimetype": "text/x-python",
   "name": "python",
   "nbconvert_exporter": "python",
   "pygments_lexer": "ipython3",
   "version": "3.7.1"
  }
 },
 "nbformat": 4,
 "nbformat_minor": 1
}
