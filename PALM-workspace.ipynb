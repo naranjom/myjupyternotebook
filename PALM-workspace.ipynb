{
 "cells": [
  {
   "cell_type": "code",
   "execution_count": 1,
   "metadata": {},
   "outputs": [],
   "source": [
    "from mylibrary import *\n",
    "#     The next line is jupyter specific & only needs to be called 1/notebook.\n",
    "%matplotlib inline"
   ]
  },
  {
   "cell_type": "code",
   "execution_count": 4,
   "metadata": {},
   "outputs": [],
   "source": [
    "# %quickref       #  for reference tab"
   ]
  },
  {
   "cell_type": "code",
   "execution_count": 5,
   "metadata": {},
   "outputs": [],
   "source": [
    "#a = linspace(0,9,9);print(a);list(a)"
   ]
  },
  {
   "cell_type": "markdown",
   "metadata": {},
   "source": [
    "<h3 align = \"center\">Markdown Cell Examples</h3>\n",
    "\n",
    "$$\\nabla \\psi = \\frac{\\partial\\psi}{\\partial x_i}$$\n",
    "\n",
    "\\begin{equation}\n",
    "    \\nabla \\psi = \\frac{\\partial\\psi}{\\partial x} + \\frac{\\partial\\psi}{\\partial y} + \\frac{\\partial\\psi}{\\partial z}\n",
    "\\end{equation}\n",
    "\n",
    "| does | this make | us a table |\n",
    "|------|-----------|------------|\n",
    "| now  | how does  | this work  |\n"
   ]
  },
  {
   "cell_type": "markdown",
   "metadata": {},
   "source": [
    "<h1 align = \"center\">netCDF library imports</h1>"
   ]
  },
  {
   "cell_type": "code",
   "execution_count": 6,
   "metadata": {},
   "outputs": [],
   "source": [
    "from netCDF4 import Dataset as NetCDFFile\n",
    "import matplotlib.pyplot as plt\n",
    "#import numpy as np\n",
    "#from mpl_toolkits.basemap import Basemap"
   ]
  },
  {
   "cell_type": "markdown",
   "metadata": {},
   "source": [
    "<h2 align = \"center\">Opening a netCDF</h2>"
   ]
  },
  {
   "cell_type": "code",
   "execution_count": 7,
   "metadata": {},
   "outputs": [],
   "source": [
    "\n",
    "dataset = NetCDFFile('/home/mariornaranjo/Desktop/TutorialDocsPALM/e2_neutralCARC/OUTPUT/e2_neutral_pr.nc')"
   ]
  },
  {
   "cell_type": "code",
   "execution_count": 8,
   "metadata": {},
   "outputs": [
    {
     "name": "stdout",
     "output_type": "stream",
     "text": [
      "NETCDF3_64BIT_OFFSET\n",
      "\n",
      " NETCDF3_64BIT_OFFSET\n"
     ]
    }
   ],
   "source": [
    "print(dataset.file_format)\n",
    "print('\\n',dataset.data_model)\n",
    "#dataset.close"
   ]
  },
  {
   "cell_type": "markdown",
   "metadata": {},
   "source": [
    "<h3 align = \"center\">Interrogating dimensions</h3>"
   ]
  },
  {
   "cell_type": "code",
   "execution_count": 9,
   "metadata": {
    "collapsed": true
   },
   "outputs": [
    {
     "name": "stdout",
     "output_type": "stream",
     "text": [
      "OrderedDict([('time', <class 'netCDF4._netCDF4.Dimension'> (unlimited): name = 'time', size = 17\n",
      "), ('zu', <class 'netCDF4._netCDF4.Dimension'>: name = 'zu', size = 114\n",
      "), ('zv', <class 'netCDF4._netCDF4.Dimension'>: name = 'zv', size = 114\n",
      "), ('zw', <class 'netCDF4._netCDF4.Dimension'>: name = 'zw', size = 114\n",
      "), ('zpt', <class 'netCDF4._netCDF4.Dimension'>: name = 'zpt', size = 114\n",
      "), ('zw\"u\"', <class 'netCDF4._netCDF4.Dimension'>: name = 'zw\"u\"', size = 114\n",
      "), ('zw*u*', <class 'netCDF4._netCDF4.Dimension'>: name = 'zw*u*', size = 114\n",
      "), ('zwu', <class 'netCDF4._netCDF4.Dimension'>: name = 'zwu', size = 114\n",
      "), ('zw\"v\"', <class 'netCDF4._netCDF4.Dimension'>: name = 'zw\"v\"', size = 114\n",
      "), ('zw*v*', <class 'netCDF4._netCDF4.Dimension'>: name = 'zw*v*', size = 114\n",
      "), ('zwv', <class 'netCDF4._netCDF4.Dimension'>: name = 'zwv', size = 114\n",
      "), ('zw*2', <class 'netCDF4._netCDF4.Dimension'>: name = 'zw*2', size = 114\n",
      "), ('zpt*2', <class 'netCDF4._netCDF4.Dimension'>: name = 'zpt*2', size = 114\n",
      ")])\n",
      "\n",
      " odict_keys(['time', 'zu', 'zv', 'zw', 'zpt', 'zw\"u\"', 'zw*u*', 'zwu', 'zw\"v\"', 'zw*v*', 'zwv', 'zw*2', 'zpt*2'])\n",
      "\n",
      " odict_values([<class 'netCDF4._netCDF4.Dimension'> (unlimited): name = 'time', size = 17\n",
      ", <class 'netCDF4._netCDF4.Dimension'>: name = 'zu', size = 114\n",
      ", <class 'netCDF4._netCDF4.Dimension'>: name = 'zv', size = 114\n",
      ", <class 'netCDF4._netCDF4.Dimension'>: name = 'zw', size = 114\n",
      ", <class 'netCDF4._netCDF4.Dimension'>: name = 'zpt', size = 114\n",
      ", <class 'netCDF4._netCDF4.Dimension'>: name = 'zw\"u\"', size = 114\n",
      ", <class 'netCDF4._netCDF4.Dimension'>: name = 'zw*u*', size = 114\n",
      ", <class 'netCDF4._netCDF4.Dimension'>: name = 'zwu', size = 114\n",
      ", <class 'netCDF4._netCDF4.Dimension'>: name = 'zw\"v\"', size = 114\n",
      ", <class 'netCDF4._netCDF4.Dimension'>: name = 'zw*v*', size = 114\n",
      ", <class 'netCDF4._netCDF4.Dimension'>: name = 'zwv', size = 114\n",
      ", <class 'netCDF4._netCDF4.Dimension'>: name = 'zw*2', size = 114\n",
      ", <class 'netCDF4._netCDF4.Dimension'>: name = 'zpt*2', size = 114\n",
      "])\n",
      "\n",
      " <class 'netCDF4._netCDF4.Dimension'> (unlimited): name = 'time', size = 17\n",
      "\n",
      "\n",
      " len(time)= 17\n",
      "\n",
      " True\n"
     ]
    }
   ],
   "source": [
    "print(dataset.dimensions)\n",
    "print('\\n',dataset.dimensions.keys())\n",
    "print('\\n',dataset.dimensions.values())\n",
    "\n",
    "print('\\n',dataset.dimensions['time'])\n",
    "print('\\n len(time)=', len(dataset.dimensions['time']))\n",
    "print('\\n',dataset.dimensions['time'].isunlimited())"
   ]
  },
  {
   "cell_type": "code",
   "execution_count": 12,
   "metadata": {},
   "outputs": [
    {
     "name": "stdout",
     "output_type": "stream",
     "text": [
      "<class 'netCDF4._netCDF4.Dimension'> (unlimited): name = 'time', size = 17\n",
      "\n",
      "<class 'netCDF4._netCDF4.Dimension'>: name = 'zu', size = 114\n",
      "\n",
      "<class 'netCDF4._netCDF4.Dimension'>: name = 'zv', size = 114\n",
      "\n",
      "<class 'netCDF4._netCDF4.Dimension'>: name = 'zw', size = 114\n",
      "\n",
      "<class 'netCDF4._netCDF4.Dimension'>: name = 'zpt', size = 114\n",
      "\n",
      "<class 'netCDF4._netCDF4.Dimension'>: name = 'zw\"u\"', size = 114\n",
      "\n",
      "<class 'netCDF4._netCDF4.Dimension'>: name = 'zw*u*', size = 114\n",
      "\n",
      "<class 'netCDF4._netCDF4.Dimension'>: name = 'zwu', size = 114\n",
      "\n",
      "<class 'netCDF4._netCDF4.Dimension'>: name = 'zw\"v\"', size = 114\n",
      "\n",
      "<class 'netCDF4._netCDF4.Dimension'>: name = 'zw*v*', size = 114\n",
      "\n",
      "<class 'netCDF4._netCDF4.Dimension'>: name = 'zwv', size = 114\n",
      "\n",
      "<class 'netCDF4._netCDF4.Dimension'>: name = 'zw*2', size = 114\n",
      "\n",
      "<class 'netCDF4._netCDF4.Dimension'>: name = 'zpt*2', size = 114\n",
      "\n"
     ]
    }
   ],
   "source": [
    "for dimobj in dataset.dimensions.values():\n",
    "    print(dimobj)"
   ]
  },
  {
   "cell_type": "markdown",
   "metadata": {},
   "source": [
    "<h3 align = \"center\">Interrogating variables</h3>"
   ]
  },
  {
   "cell_type": "code",
   "execution_count": 13,
   "metadata": {},
   "outputs": [
    {
     "name": "stdout",
     "output_type": "stream",
     "text": [
      "\n",
      " odict_keys(['time', 'zu', 'u', 'zv', 'v', 'zw', 'w', 'zpt', 'pt', 'zw\"u\"', 'w\"u\"', 'zw*u*', 'w*u*', 'zwu', 'wu', 'zw\"v\"', 'w\"v\"', 'zw*v*', 'w*v*', 'zwv', 'wv', 'zw*2', 'w*2', 'zpt*2', 'pt*2', 'NORM_wpt0', 'NORM_ws2', 'NORM_tsw2', 'NORM_ws3', 'NORM_ws2tsw', 'NORM_wstsw2', 'NORM_z_i'])\n",
      "\n",
      " <class 'netCDF4._netCDF4.Variable'>\n",
      "float32 w*u*(time, zw*u*)\n",
      "    units: m2/s2\n",
      "    long_name: w*u*\n",
      "unlimited dimensions: time\n",
      "current shape = (17, 114)\n",
      "filling off\n",
      "\n",
      "\n",
      " len(time)= 17\n"
     ]
    }
   ],
   "source": [
    "#print(dataset.variables)\n",
    "print('\\n',dataset.variables.keys())\n",
    "print('\\n',dataset.variables['w*u*'])\n",
    "print('\\n len(time)=', len(dataset.variables['time']))"
   ]
  },
  {
   "cell_type": "code",
   "execution_count": 14,
   "metadata": {},
   "outputs": [
    {
     "name": "stdout",
     "output_type": "stream",
     "text": [
      "OrderedDict([('title', 'PALM 5.0  Rev: 2846  run: e2_neutral.00  host: default  21-03-18 16:49:56, 10800.0 s average'), ('time_avg', '10800.0 s avg'), ('no_rows', 3), ('no_columns', 2), ('cross_profiles', ';u,v;pt;w\"u\",w*u*,wu,w\"v\",w*v*,wv;w;w*2;pt*2;'), ('VAR_LIST', ';u;v;w;pt;w\"u\";w*u*;wu;w\"v\";w*v*;wv;w*2;pt*2;')])\n",
      "\n",
      " PALM 5.0  Rev: 2846  run: e2_neutral.00  host: default  21-03-18 16:49:56, 10800.0 s average\n",
      "\n",
      " time average:  10800.0 s avg\n",
      "\n",
      " number of rows:  3\n",
      "\n",
      " number of columns:  2\n",
      "\n",
      " cross profiles:  u,v;pt;w\"u\",w*u*,wu,w\"v\",w*v*,wv;w;w*2;pt*2\n",
      "\n",
      " variable list:  u;v;w;pt;w\"u\";w*u*;wu;w\"v\";w*v*;wv;w*2;pt*2\n"
     ]
    }
   ],
   "source": [
    "print(dataset.__dict__)\n",
    "print('\\n', dataset.__dict__['title'][:])\n",
    "print('\\n time average: ', dataset.__dict__['time_avg'][:])\n",
    "print('\\n number of rows: ', dataset.__dict__['no_rows'])\n",
    "print('\\n number of columns: ', dataset.__dict__['no_columns'])\n",
    "print('\\n cross profiles: ', dataset.__dict__['cross_profiles'][1:44])\n",
    "print('\\n variable list: ', dataset.__dict__['VAR_LIST'][1:44])"
   ]
  },
  {
   "cell_type": "code",
   "execution_count": 15,
   "metadata": {},
   "outputs": [
    {
     "name": "stdout",
     "output_type": "stream",
     "text": [
      "title = PALM 5.0  Rev: 2846  run: e2_neutral.00  host: default  21-03-18 16:49:56, 10800.0 s average\n",
      "time_avg = 10800.0 s avg\n",
      "no_rows = 3\n",
      "no_columns = 2\n",
      "cross_profiles = ;u,v;pt;w\"u\",w*u*,wu,w\"v\",w*v*,wv;w;w*2;pt*2;\n",
      "VAR_LIST = ;u;v;w;pt;w\"u\";w*u*;wu;w\"v\";w*v*;wv;w*2;pt*2;\n"
     ]
    }
   ],
   "source": [
    "for attr in dataset.ncattrs():\n",
    "    print (attr, '=', getattr(dataset, attr))"
   ]
  },
  {
   "cell_type": "code",
   "execution_count": 17,
   "metadata": {
    "collapsed": true
   },
   "outputs": [
    {
     "name": "stdout",
     "output_type": "stream",
     "text": [
      "m2/s2\n"
     ]
    }
   ],
   "source": [
    "print(dataset.variables['w*u*'].units)"
   ]
  },
  {
   "cell_type": "code",
   "execution_count": null,
   "metadata": {},
   "outputs": [],
   "source": []
  },
  {
   "cell_type": "code",
   "execution_count": 23,
   "metadata": {},
   "outputs": [],
   "source": [
    "time = dataset.variables['time'][:]\n",
    "\n",
    "u = dataset.variables['u'][:]\n",
    "v = dataset.variables['v'][:]\n",
    "w = dataset.variables['w'][:]\n",
    "pt = dataset.variables['pt'][:]\n",
    "\n",
    "ws2 = dataset.variables['w*2'][:]\n",
    "\n",
    "wu = dataset.variables['wu'][:]\n",
    "wv = dataset.variables['wv'][:]\n",
    "\n",
    "wsus = dataset.variables['w*u*'][:]\n",
    "wsvs = dataset.variables['w*v*'][:]\n",
    "\n",
    "\n",
    "w_pp_u_pp = dataset.variables['w\"u\"'][:]\n",
    "w_pp_v_pp = dataset.variables['w\"v\"'][:]\n",
    "\n",
    "\n",
    "\n",
    "pts2 = dataset.variables['pt*2'][:]\n",
    "#xpt = dataset.variables['xpt'][:]\n",
    "#xpts2 = dataset.variables['xpt*2'][:]\n",
    "#ypt = dataset.variables['ypt'][:]\n",
    "#ypts2 = dataset.variables['ypt*2'][:]\n",
    "zpt = dataset.variables['zpt'][:]\n",
    "zpts2 = dataset.variables['zpt*2'][:]\n",
    "\n",
    "#NORM_z_i = dataset.variables['NORM_z_i'][:]\n",
    "#NORM_wpt0 = dataset.variables['NORM_wpt0'][:]\n",
    "#NORM_ws2 = dataset.variables['NORM_ws2'][:]\n",
    "#NORM_tsw2 = dataset.variables['NORM_tsw2'][:]\n",
    "#NORM_ws3 = dataset.variables['NORM_ws3'][:]\n",
    "#NORM_ws2tsw = dataset.variables['NORM_ws2tsw'][:]\n",
    "#NORM_wstsw2 = dataset.variables['NORM_wstsw2'][:]\n",
    "\n",
    "#w_xy = dataset.variables['w_xy'][:];w_xy\n",
    "\n",
    "#pt_xy = dataset.variables['pt_xy'][:];pt_xy#zu_xy = dataset.variables['zu_xy'][:]\n",
    "#zw_xy = dataset.variables['zw_xy'][:]\n",
    "#zu1_xy = dataset.variables['zu1_xy'][:]\n",
    "#ind_z_xy = dataset.variables['ind_z_xy'][:]\n",
    "\n",
    "#x = dataset.variables['x'][:]\n",
    "#xu = dataset.variables['xu'][:]\n",
    "#xv = dataset.variables['xv'][:]\n",
    "#xw = dataset.variables['xw'][:]\n",
    "\n",
    "#y = dataset.variables['y'][:]\n",
    "#yu = dataset.variables['yu'][:]\n",
    "#yv = dataset.variables['yv'][:]\n",
    "#yw = dataset.variables['yw'][:]\n",
    "\n",
    "#z = dataset.variables['z'][:]\n",
    "zu = dataset.variables['zu'][:]\n",
    "zv = dataset.variables['zv'][:]\n",
    "zw = dataset.variables['zw'][:]\n",
    "zwu = dataset.variables['zwu'][:]\n",
    "zwv = dataset.variables['zwv'][:]\n",
    "zw_pp_u_pp = dataset.variables['zw\"u\"'][:]\n",
    "zw_pp_v_pp = dataset.variables['zw\"v\"'][:]\n",
    "zwsus = dataset.variables['zw*u*'][:]\n",
    "zwsvs = dataset.variables['zw*v*'][:]\n",
    "zws2 = dataset.variables['zw*2'][:]\n"
   ]
  },
  {
   "cell_type": "code",
   "execution_count": 2,
   "metadata": {},
   "outputs": [
    {
     "data": {
      "text/plain": [
       "142.78999999999996"
      ]
     },
     "execution_count": 2,
     "metadata": {},
     "output_type": "execute_result"
    }
   ],
   "source": [
    "307.08-406.63+126.84-198.31+325+4.51+6.15+2.99+3+4.77+175-213.83+2.99+3.23"
   ]
  },
  {
   "cell_type": "code",
   "execution_count": 14,
   "metadata": {},
   "outputs": [
    {
     "data": {
      "text/plain": [
       "182.21000000000015"
      ]
     },
     "execution_count": 14,
     "metadata": {},
     "output_type": "execute_result"
    }
   ],
   "source": [
    "import numpy as np\n",
    "\n",
    "fees = (4.51+6.15+2.99+3+4.77+2.99+3.23)\n",
    "eth_dep = (307.08+126.84+325)\n",
    "eth_wdl = (406.63+198.31)\n",
    "bcn_dep = (175)\n",
    "bcn_wdl = (213.83)\n",
    "red = np.array([fees, eth_dep, bcn_dep])\n",
    "blk = np.array([eth_wdl, bcn_wdl])\n",
    "sum(blk)-sum(red)+325"
   ]
  },
  {
   "cell_type": "code",
   "execution_count": 12,
   "metadata": {},
   "outputs": [
    {
     "data": {
      "text/plain": [
       "262.14"
      ]
     },
     "execution_count": 12,
     "metadata": {},
     "output_type": "execute_result"
    }
   ],
   "source": [
    "412.14-150eth"
   ]
  },
  {
   "cell_type": "markdown",
   "metadata": {},
   "source": [
    "<h2 align=\"center\"> Initial upload of files. </h2>"
   ]
  },
  {
   "cell_type": "code",
   "execution_count": null,
   "metadata": {},
   "outputs": [],
   "source": []
  }
 ],
 "metadata": {
  "celltoolbar": "Raw Cell Format",
  "kernelspec": {
   "display_name": "Python 3",
   "language": "python",
   "name": "python3"
  },
  "language_info": {
   "codemirror_mode": {
    "name": "ipython",
    "version": 3
   },
   "file_extension": ".py",
   "mimetype": "text/x-python",
   "name": "python",
   "nbconvert_exporter": "python",
   "pygments_lexer": "ipython3",
   "version": "3.6.4"
  }
 },
 "nbformat": 4,
 "nbformat_minor": 1
}
