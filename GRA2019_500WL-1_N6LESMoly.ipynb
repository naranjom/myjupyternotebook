{
 "cells": [
  {
   "cell_type": "code",
   "execution_count": 1,
   "metadata": {},
   "outputs": [],
   "source": [
    "from mylibrary import *\n",
    "import os\n",
    "#matplotlib.use('nbagg')\n",
    "#     The next line is jupyter specific & only needs to be called 1/notebook.\n",
    "%matplotlib inline\n",
    "notebooksDir   = os.getcwd()"
   ]
  },
  {
   "cell_type": "markdown",
   "metadata": {},
   "source": [
    "--------------------"
   ]
  },
  {
   "cell_type": "markdown",
   "metadata": {},
   "source": [
    "<h2>Moly99 Solution Variable Properties</h2>"
   ]
  },
  {
   "cell_type": "code",
   "execution_count": 2,
   "metadata": {},
   "outputs": [
    {
     "name": "stdout",
     "output_type": "stream",
     "text": [
      "The heat generation rate of 0.2m rectangular prism is : 5.000e+05\n",
      "\n",
      "---------------------Fluid Properties @ 25 °C---------------------\n",
      "\n",
      "Density (rho):\t\t\t 1.18443892e+03\n",
      "Rhocp:\t\t\t\t 3.56437296e+06\n",
      "Conductivity (kappa or k):\t 5.74462677e-01\n",
      "Dynamic Viscosity (mu):\t\t 1.44169113e-03\n",
      "Specific Heat (cp):\t\t 3.00933455e+03\n"
     ]
    }
   ],
   "source": [
    "l = 1.0\n",
    "h = d = 0.2\n",
    "ID = 0.08\n",
    "molyVol = 5.0e5                  #500kW/m^3 = 500W/L\n",
    "volHeatGen = molyVol                         #W/m2 (q'')\n",
    "#print(\"The volume of the 0.2m test cube is :\", '{:.3e}'.format(molyVol))\n",
    "print(\"The heat generation rate of 0.2m rectangular prism is :\", '{:.3e}'.format(volHeatGen))\n",
    "temp          = 25                                           # C\n",
    "temp          = temp + 273.15                                # K\n",
    "density       = 987.864 + 1.68197*temp - 0.00343*temp**2     #kg/m3 (rho)\n",
    "dviscosity    = 0.030165 - 0.000167*temp + (2.37e-7)*temp**2        #Pa*s (mu)\n",
    "conductivity  = 0.103116 + 0.002049*temp - 1.57e-6*temp**2   #W/m*C\n",
    "specificHeat  = 3439.243 - 2.396*temp + 0.0032*temp**2       #J/kg*C\n",
    "kviscosity    = dviscosity/density  #m2/s (nu)\n",
    "#thermalExpansion = 87.97e-6        #1/T Volumetric(alpha or beta)\n",
    "print(\"\\n---------------------Fluid Properties @ 25 °C---------------------\\n\")\n",
    "print(\"Density (rho):\\t\\t\\t\", '{:.8e}'.format(density))\n",
    "print(\"Rhocp:\\t\\t\\t\\t\", '{:.8e}'.format(density*specificHeat))\n",
    "print(\"Conductivity (kappa or k):\\t\", '{:.8e}'.format(conductivity))\n",
    "print(\"Dynamic Viscosity (mu):\\t\\t\", '{:.8e}'.format(dviscosity))\n",
    "print(\"Specific Heat (cp):\\t\\t\", '{:.8e}'.format(specificHeat))"
   ]
  },
  {
   "cell_type": "code",
   "execution_count": 3,
   "metadata": {
    "scrolled": false
   },
   "outputs": [
    {
     "name": "stdout",
     "output_type": "stream",
     "text": [
      "Reynolds number: 4.108e+02\n",
      "Prandtl number: 7.552e+00\n"
     ]
    }
   ],
   "source": [
    "Rex = density*0.05*0.01/dviscosity;\n",
    "Pr = specificHeat*dviscosity/conductivity;\n",
    "#Gr = 9.807*thermalExpansion*2*L**3/kviscosity**2;\n",
    "#Rax = (9.807*thermalExpansion*2*L**3)/(kviscosity*(conductivity/(density*specificHeat)));\n",
    "#Ra_flux = (9.807*thermalExpansion*flux*0.05**4)/(kviscosity*(conductivity/(density*specificHeat))*conductivity);\n",
    "print(\"Reynolds number:\", '{:.3e}'.format(Rex))\n",
    "print(\"Prandtl number:\", '{:.3e}'.format(Pr))\n",
    "#print(\"Rayleigh number:\", '{:.3e}'.format(Rax))\n",
    "#print(\"Flux Rayleigh number(q''):\", '{:.3e}'.format(Ra_flux))"
   ]
  },
  {
   "cell_type": "markdown",
   "metadata": {},
   "source": [
    "<h3>Assign Path Info</h3>"
   ]
  },
  {
   "cell_type": "code",
   "execution_count": 32,
   "metadata": {},
   "outputs": [],
   "source": [
    "os.chdir(notebooksDir)\n",
    "os.chdir(r'..')\n",
    "homeDir   = os.getcwd()\n",
    "os.chdir(notebooksDir)  #%cd notebooks/\n",
    "nekDir    = r'/Volumes/LaCieRugged/NEK5000/runs'\n",
    "molyn6_500kWDir  = os.path.join(nekDir,r'molyn6-500kW')\n",
    "molyn6DirLES   = os.path.join(nekDir,r'molyn6LES')\n",
    "\n",
    "#%pwd"
   ]
  },
  {
   "cell_type": "markdown",
   "metadata": {},
   "source": [
    "<h3>Get Run Log Statistics</h3>"
   ]
  },
  {
   "cell_type": "code",
   "execution_count": 33,
   "metadata": {},
   "outputs": [],
   "source": [
    "#----------LES----------#\n",
    "#----------------N=6----------------#\n",
    "os.chdir(molyn6_500kWDir)\n",
    "timeN6LES500, tempAvgN6LES500, tempRMSN6LES500 = np.genfromtxt(fname='runStatistics6LES.log', skip_header=1, usecols = (1, 3, 4), unpack=True)\n",
    "\n",
    "#----------------N=6 ----------------#\n",
    "os.chdir(molyn6DirLES)\n",
    "timeN6LES, tempAvgN6LES, tempRMSN6LES = np.genfromtxt(fname='runStatistics6LES.log.backup001-300', skip_header=1, usecols = (1, 3, 4), unpack=True)\n",
    "timeN6LES1, tempAvgN6LES1, tempRMSN6LES1 = np.genfromtxt(fname='runStatistics6LES.log.backup300-991', skip_header=1, usecols = (1, 3, 4), unpack=True)\n",
    "timeN6LES2, tempAvgN6LES2, tempRMSN6LES2 = np.genfromtxt(fname='runStatistics6LES.log', skip_header=1, usecols = (1, 3, 4), unpack=True)\n",
    "\n",
    "\n",
    "os.chdir(notebooksDir)\n",
    "# command-/\n",
    "# #----Combine data from restarts into single array----#\n",
    "# #----------------N=6----------------#\n",
    "timeN6LES    = np.append(timeN6LES, timeN6LES1)\n",
    "timeN6LES    = np.append(timeN6LES, timeN6LES2)\n",
    "tempAvgN6LES = np.append(tempAvgN6LES, tempAvgN6LES1)\n",
    "tempAvgN6LES = np.append(tempAvgN6LES, tempAvgN6LES2)\n",
    "tempRMSN6LES = np.append(tempRMSN6LES, tempRMSN6LES1)\n",
    "tempRMSN6LES = np.append(tempRMSN6LES, tempRMSN6LES2)\n",
    "\n",
    "# #----------------N=8----------------#\n",
    "# timeN8LES    = np.append(timeN8LES, timeN8LES1)\n",
    "# timeN8LES    = np.append(timeN8LES, timeN8LES2)\n",
    "# tempAvgN8LES = np.append(tempAvgN8LES, tempAvgN8LES1)\n",
    "# tempAvgN8LES = np.append(tempAvgN8LES, tempAvgN8LES2)\n",
    "# tempRMSN8LES = np.append(tempRMSN8LES, tempRMSN8LES1)\n",
    "# tempRMSN8LES = np.append(tempRMSN8LES, tempRMSN8LES2)\n",
    "\n",
    "# #----------------N=10----------------#\n",
    "# timeN10      = np.append(timeN10, timeN101)\n",
    "# tempAvgN10   = np.append(tempAvgN10, tempAvgN101)\n",
    "# tempRMSN10   = np.append(tempRMSN10, tempRMSN101)\n",
    "#"
   ]
  },
  {
   "cell_type": "markdown",
   "metadata": {},
   "source": [
    "<h3> Moly Plot N=6 LES</h3>"
   ]
  },
  {
   "cell_type": "code",
   "execution_count": 36,
   "metadata": {
    "scrolled": false
   },
   "outputs": [
    {
     "data": {
      "image/png": "[encoded data removed]",
      "text/plain": [
       "<Figure size 432x288 with 1 Axes>"
      ]
     },
     "metadata": {
      "needs_background": "light"
     },
     "output_type": "display_data"
    }
   ],
   "source": [
    "plt.close('all')\n",
    "#    Enter x, y variables to plot:\n",
    "x_var, x_var1 = timeN6LES, timeN6LES500\n",
    "y_var, y_var1 = tempAvgN6LES, tempAvgN6LES500\n",
    "\n",
    "##############       Format Plot Area      #############################\n",
    "fig, ax = plt.subplots()\n",
    "color = 'tab:red'\n",
    "ax.set_xlim(min(x_var), max(x_var))\n",
    "ax.set_ylim(min(y_var), max(y_var1+2))\n",
    "#ax.set_xlim(min(120,140), max(120,140))\n",
    "#ax.set_ylim(min(26.5,26.66), max(26.33,26.75))\n",
    "ax.tick_params(axis='x',)\n",
    "ax.tick_params(axis='y', labelsize=14)\n",
    "#plt.ticklabel_format(style='sci', axis='x', scilimits=(0,0))\n",
    "\n",
    "##############       Set Text          #############################\n",
    "ax.set_title('N=6 LES: Volumetric Average Temperature', size = 18)\n",
    "ax.set_xlabel('$Time({sec})$', size = 14)#, color=color);\n",
    "ax.set_ylabel(r'$Temperature\\,(^{\\circ}C)$', size = 14)\n",
    "\n",
    "n6 = ax.plot(x_var,y_var, \"--\", label=r\"N6LES $(50\\frac{W}{L})$\")#, linestyle=':')#, color=color)\n",
    "n6_500 = ax.plot(x_var1,y_var1, linestyle='--', dashes=(3, 7), label=r\"N6LES $(500\\frac{W}{L})$\", color=color)\n",
    "ns = n6 + n6_500\n",
    "labs = [l.get_label() for l in ns]\n",
    "ax.legend(ns, labs, loc=7,handlelength=3, fontsize=14)\n",
    "\n",
    "matplotlib.rc('xtick', labelsize=14)\n",
    "\n",
    "fig.tight_layout()\n",
    "box = ax.get_position()\n",
    "ax.set_position([box.x0, box.y0, box.width * 2, box.height*2])\n",
    "\n",
    "plt.show()\n",
    "#os.chdir(casesMoly)\n",
    "#fig.savefig('molyAvgTemp500WperL.jpg', bbox_inches='tight', transparent=True)\n",
    "#os.chdir(notebooksDir)"
   ]
  },
  {
   "cell_type": "markdown",
   "metadata": {},
   "source": [
    "<h3>Computational Time Statistics</h3>"
   ]
  },
  {
   "cell_type": "code",
   "execution_count": 11,
   "metadata": {},
   "outputs": [],
   "source": [
    "# import datetime\n",
    "# #datetime(year,month,day,hour(24),minute,second,microsecond)\n",
    "# startN6   = datetime.datetime(2018,10,29,16,21,0,0)\n",
    "# endN6     = datetime.datetime(2018,10,31,0,47,0,0)\n",
    "# deltaN6   = (endN6 - startN6)\n",
    "# deltaN6   = ([(deltaN6.days*86400 + deltaN6.seconds)/60, 127])   #minutes\n",
    "# print(\"Total N6DNS computational time for 127 simulation seconds:\\t\",'{:.3f}'.format(deltaN6[0]/(60*24)),\"days\")\n",
    "\n",
    "# startN6LES   = datetime.datetime(2018,11,27,12,33,0,0)\n",
    "# endN6LES     = datetime.datetime(2018,11,29,1,32,0,0)\n",
    "# deltaN6LES   = (endN6LES - startN6LES)\n",
    "# deltaN6LES   = ([(deltaN6LES.days*86400 + deltaN6LES.seconds)/60, 127])    #minutes\n",
    "# print(\"Total N6LES computational time for 127 simulation seconds:\\t\",'{:.3f}'.format(deltaN6LES[0]/(60*24)),\"days\")\n",
    "\n",
    "# startN8   = datetime.datetime(2018,11,1,11,6,0,0)\n",
    "# endN8     = datetime.datetime(2018,11,3,15,15,0,0)\n",
    "# deltaN8   = (endN8 - startN8)\n",
    "# deltaN8   = ([(deltaN8.days*86400 + deltaN8.seconds)/60, 127])    #minutes\n",
    "# print(\"Total N8DNS computational time for 127 simulation seconds:\\t\",'{:.3f}'.format(deltaN8[0]/(60*24)),\"days\")\n",
    "\n",
    "# startN8LES   = datetime.datetime(2018,11,21,11,43,0,0)\n",
    "# endN8LES     = datetime.datetime(2018,11,23,15,50,0,0)\n",
    "# deltaN8LES   = (endN8LES - startN8LES)\n",
    "# deltaN8LES   = ([(deltaN8LES.days*86400 + deltaN8LES.seconds)/60, 127])    #minutes\n",
    "# print(\"Total N8LES computational time for 127 simulation seconds:\\t\",'{:.3f}'.format(deltaN8LES[0]/(60*24)),\"days\")\n",
    "\n",
    "# startN10   = datetime.datetime(2018,11,5,8,34,0,0)\n",
    "# endN10     = datetime.datetime(2018,11,11,22,3,0,0)\n",
    "# deltaN10   = (endN10 - startN10)\n",
    "# deltaN10   = ([(deltaN10.days*86400 + deltaN10.seconds)/60, 127])  #minutes\n",
    "# print(\"Total N10DNS computational time for 127 simulation seconds:\\t\", '{:.3f}'.format(deltaN10[0]/(60*24)),\"days\")\n",
    "\n",
    "# startN10LES   = datetime.datetime(2018,12,12,18,31,0,0)\n",
    "# endN10LES     = datetime.datetime(2018,12,18,1,43,0,0)\n",
    "# deltaN10LES   = (endN10LES - startN10LES)\n",
    "# deltaN10LES   = ([(deltaN10LES.days*86400 + deltaN10LES.seconds)/60, 127])  #minutes\n",
    "# print(\"Total N10LES computational time for 127 simulation seconds:\\t\", '{:.3f}'.format(deltaN10LES[0]/(60*24)),\"days\")\n"
   ]
  },
  {
   "cell_type": "code",
   "execution_count": 16,
   "metadata": {},
   "outputs": [
    {
     "name": "stdout",
     "output_type": "stream",
     "text": [
      "The max differences are:\n",
      " 4.0000000002038405e-05 \n",
      " 0.002029999999997756 \n",
      " 0.0007300000000007856\n",
      "The min differences are:\n",
      " -3.0000000002416982e-05 \n",
      " -0.0008499999999997954 \n",
      " -0.0041399999999995885\n"
     ]
    },
    {
     "data": {
      "text/plain": [
       "0.002029999999997756"
      ]
     },
     "execution_count": 16,
     "metadata": {},
     "output_type": "execute_result"
    }
   ],
   "source": [
    "print(\"The max differences are:\\n\",max(y_var[:]),\"\\n\",max(y_var1[:]),\"\\n\",max(y_var2[:]))\n",
    "print(\"The min differences are:\\n\",min(y_var[:]),\"\\n\",min(y_var1[:]),\"\\n\",min(y_var2[:]))\n",
    "max(abs(max(max(y_var), max(y_var1), max(y_var2))), abs(max(min(y_var), min(y_var1), min(y_var2))))*100/25\n",
    "max(abs(max(max(y_var), max(y_var1), max(y_var2))), abs(max(min(y_var), min(y_var1), min(y_var2))))"
   ]
  },
  {
   "cell_type": "code",
   "execution_count": null,
   "metadata": {},
   "outputs": [],
   "source": []
  },
  {
   "cell_type": "markdown",
   "metadata": {},
   "source": [
    "<h3>Computational Time Statistics</h3>"
   ]
  },
  {
   "cell_type": "code",
   "execution_count": 20,
   "metadata": {
    "scrolled": true
   },
   "outputs": [
    {
     "name": "stdout",
     "output_type": "stream",
     "text": [
      "Total N6DNS computational time for 127 simulation seconds:\t 1.351 days\n",
      "Total N6LES computational time for 127 simulation seconds:\t 1.541 days\n",
      "Total N8DNS computational time for 127 simulation seconds:\t 2.173 days\n",
      "Total N8LES computational time for 127 simulation seconds:\t 2.172 days\n",
      "Total N10DNS computational time for 127 simulation seconds:\t 6.562 days\n",
      "Total N10LES computational time for 127 simulation seconds:\t 5.300 days\n"
     ]
    }
   ],
   "source": [
    "import datetime\n",
    "#datetime(year,month,day,hour(24),minute,second,microsecond)\n",
    "startN6   = datetime.datetime(2018,10,29,16,21,0,0)\n",
    "endN6     = datetime.datetime(2018,10,31,0,47,0,0)\n",
    "deltaN6   = (endN6 - startN6)\n",
    "deltaN6   = ([(deltaN6.days*86400 + deltaN6.seconds)/60, 127])   #minutes\n",
    "print(\"Total N6DNS computational time for 127 simulation seconds:\\t\",'{:.3f}'.format(deltaN6[0]/(60*24)),\"days\")\n",
    "\n",
    "startN6LES   = datetime.datetime(2018,11,27,12,33,0,0)\n",
    "endN6LES     = datetime.datetime(2018,11,29,1,32,0,0)\n",
    "deltaN6LES   = (endN6LES - startN6LES)\n",
    "deltaN6LES   = ([(deltaN6LES.days*86400 + deltaN6LES.seconds)/60, 127])    #minutes\n",
    "print(\"Total N6LES computational time for 127 simulation seconds:\\t\",'{:.3f}'.format(deltaN6LES[0]/(60*24)),\"days\")\n",
    "\n",
    "startN8   = datetime.datetime(2018,11,1,11,6,0,0)\n",
    "endN8     = datetime.datetime(2018,11,3,15,15,0,0)\n",
    "deltaN8   = (endN8 - startN8)\n",
    "deltaN8   = ([(deltaN8.days*86400 + deltaN8.seconds)/60, 127])    #minutes\n",
    "print(\"Total N8DNS computational time for 127 simulation seconds:\\t\",'{:.3f}'.format(deltaN8[0]/(60*24)),\"days\")\n",
    "\n",
    "startN8LES   = datetime.datetime(2018,11,21,11,43,0,0)\n",
    "endN8LES     = datetime.datetime(2018,11,23,15,50,0,0)\n",
    "deltaN8LES   = (endN8LES - startN8LES)\n",
    "deltaN8LES   = ([(deltaN8LES.days*86400 + deltaN8LES.seconds)/60, 127])    #minutes\n",
    "print(\"Total N8LES computational time for 127 simulation seconds:\\t\",'{:.3f}'.format(deltaN8LES[0]/(60*24)),\"days\")\n",
    "\n",
    "startN10   = datetime.datetime(2018,11,5,8,34,0,0)\n",
    "endN10     = datetime.datetime(2018,11,11,22,3,0,0)\n",
    "deltaN10   = (endN10 - startN10)\n",
    "deltaN10   = ([(deltaN10.days*86400 + deltaN10.seconds)/60, 127])  #minutes\n",
    "print(\"Total N10DNS computational time for 127 simulation seconds:\\t\", '{:.3f}'.format(deltaN10[0]/(60*24)),\"days\")\n",
    "\n",
    "startN10LES   = datetime.datetime(2018,12,12,18,31,0,0)\n",
    "endN10LES     = datetime.datetime(2018,12,18,1,43,0,0)\n",
    "deltaN10LES   = (endN10LES - startN10LES)\n",
    "deltaN10LES   = ([(deltaN10LES.days*86400 + deltaN10LES.seconds)/60, 127])  #minutes\n",
    "print(\"Total N10LES computational time for 127 simulation seconds:\\t\", '{:.3f}'.format(deltaN10LES[0]/(60*24)),\"days\")\n"
   ]
  },
  {
   "cell_type": "code",
   "execution_count": null,
   "metadata": {},
   "outputs": [],
   "source": []
  },
  {
   "cell_type": "code",
   "execution_count": null,
   "metadata": {},
   "outputs": [],
   "source": []
  },
  {
   "cell_type": "code",
   "execution_count": null,
   "metadata": {},
   "outputs": [],
   "source": []
  },
  {
   "cell_type": "code",
   "execution_count": null,
   "metadata": {},
   "outputs": [],
   "source": []
  },
  {
   "cell_type": "code",
   "execution_count": 22,
   "metadata": {},
   "outputs": [
    {
     "name": "stdout",
     "output_type": "stream",
     "text": [
      "[array([-0.38557757, -0.38494167, -0.38158003]), array([-0.38558399, -0.38558271, -0.38553416])]\n"
     ]
    }
   ],
   "source": [
    "steps = np.array([0.01,0.1,0.25]);\n",
    "fprime = ([\n",
    "    ( sin(0.626*pi+steps) - sin(0.626*pi-steps) )/(2*steps)    \n",
    "    ,( -sin(0.626*pi+2*steps) + 8*sin(0.626*pi+steps) - 8*sin(0.626*pi-steps) + sin(0.626*pi-2*steps) )/(12*steps)\n",
    "    ])\n",
    "print(fprime)"
   ]
  },
  {
   "cell_type": "code",
   "execution_count": null,
   "metadata": {},
   "outputs": [],
   "source": []
  },
  {
   "cell_type": "code",
   "execution_count": 23,
   "metadata": {},
   "outputs": [
    {
     "data": {
      "text/plain": [
       "array([[6.42636774e-06, 6.42318744e-04, 4.00396702e-03],\n",
       "       [1.28524635e-10, 1.28375077e-06, 4.98340494e-05]])"
      ]
     },
     "execution_count": 23,
     "metadata": {},
     "output_type": "execute_result"
    }
   ],
   "source": [
    "fprime-cos(0.626*pi)"
   ]
  },
  {
   "cell_type": "code",
   "execution_count": null,
   "metadata": {},
   "outputs": [],
   "source": [
    "cos()"
   ]
  }
 ],
 "metadata": {
  "celltoolbar": "Raw Cell Format",
  "kernelspec": {
   "display_name": "Python 3",
   "language": "python",
   "name": "python3"
  },
  "language_info": {
   "codemirror_mode": {
    "name": "ipython",
    "version": 3
   },
   "file_extension": ".py",
   "mimetype": "text/x-python",
   "name": "python",
   "nbconvert_exporter": "python",
   "pygments_lexer": "ipython3",
   "version": "3.7.1"
  }
 },
 "nbformat": 4,
 "nbformat_minor": 1
}
